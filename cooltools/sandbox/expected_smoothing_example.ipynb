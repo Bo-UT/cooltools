{
 "cells": [
  {
   "cell_type": "code",
   "execution_count": 1,
   "id": "supposed-greeting",
   "metadata": {},
   "outputs": [],
   "source": [
    "import numpy as np\n",
    "import pandas as pd\n",
    "\n",
    "import matplotlib.pyplot as plt\n",
    "\n",
    "import bioframe\n",
    "\n",
    "import cooler\n",
    "import cooltools \n",
    "import cooltools.expected"
   ]
  },
  {
   "cell_type": "code",
   "execution_count": 26,
   "id": "included-contrary",
   "metadata": {},
   "outputs": [],
   "source": [
    "import cooltools.sandbox\n",
    "import cooltools.sandbox.expected_smoothing"
   ]
  },
  {
   "cell_type": "code",
   "execution_count": 33,
   "metadata": {},
   "outputs": [
    {
     "data": {
      "text/plain": [
       "<module 'cooltools.sandbox.expected_smoothing' from '/users/anton.goloborodko/src/cooltools/cooltools/sandbox/expected_smoothing.py'>"
      ]
     },
     "execution_count": 33,
     "metadata": {},
     "output_type": "execute_result"
    }
   ],
   "source": [
    "import importlib\n",
    "importlib.reload(cooltools.sandbox.expected_smoothing)"
   ]
  },
  {
   "cell_type": "code",
   "execution_count": 3,
   "id": "modified-shaft",
   "metadata": {},
   "outputs": [
    {
     "name": "stdout",
     "output_type": "stream",
     "text": [
      "Test dataset HFF_MicroC (file test.mcool) is not in the cache directory ./\n",
      "downloading: https://osf.io/3h9js/download as ./test.mcool\n",
      "./test.mcool\n"
     ]
    }
   ],
   "source": [
    "# download test data\n",
    "# this file is 145 Mb, and may take a few seconds to download\n",
    "cool_file = cooltools.download_data(\"HFF_MicroC\", cache=True, data_dir='./')    \n",
    "print(cool_file)"
   ]
  },
  {
   "cell_type": "code",
   "execution_count": 4,
   "id": "supported-trailer",
   "metadata": {},
   "outputs": [],
   "source": [
    "# Load a Hi-C map at a 1kb resolution from a cooler file.\n",
    "clr = cooler.Cooler('./test.mcool::/resolutions/1000')"
   ]
  },
  {
   "cell_type": "code",
   "execution_count": 5,
   "id": "recovered-leone",
   "metadata": {},
   "outputs": [
    {
     "data": {
      "text/html": [
       "<div>\n",
       "<style scoped>\n",
       "    .dataframe tbody tr th:only-of-type {\n",
       "        vertical-align: middle;\n",
       "    }\n",
       "\n",
       "    .dataframe tbody tr th {\n",
       "        vertical-align: top;\n",
       "    }\n",
       "\n",
       "    .dataframe thead th {\n",
       "        text-align: right;\n",
       "    }\n",
       "</style>\n",
       "<table border=\"1\" class=\"dataframe\">\n",
       "  <thead>\n",
       "    <tr style=\"text-align: right;\">\n",
       "      <th></th>\n",
       "      <th>chrom</th>\n",
       "      <th>start</th>\n",
       "      <th>end</th>\n",
       "      <th>name</th>\n",
       "    </tr>\n",
       "  </thead>\n",
       "  <tbody>\n",
       "    <tr>\n",
       "      <th>0</th>\n",
       "      <td>chr2</td>\n",
       "      <td>0</td>\n",
       "      <td>93139351</td>\n",
       "      <td>chr2:0-93139351</td>\n",
       "    </tr>\n",
       "    <tr>\n",
       "      <th>1</th>\n",
       "      <td>chr2</td>\n",
       "      <td>93139351</td>\n",
       "      <td>242193529</td>\n",
       "      <td>chr2:93139351-242193529</td>\n",
       "    </tr>\n",
       "    <tr>\n",
       "      <th>2</th>\n",
       "      <td>chr17</td>\n",
       "      <td>0</td>\n",
       "      <td>24714921</td>\n",
       "      <td>chr17:0-24714921</td>\n",
       "    </tr>\n",
       "    <tr>\n",
       "      <th>3</th>\n",
       "      <td>chr17</td>\n",
       "      <td>24714921</td>\n",
       "      <td>83257441</td>\n",
       "      <td>chr17:24714921-83257441</td>\n",
       "    </tr>\n",
       "  </tbody>\n",
       "</table>\n",
       "</div>"
      ],
      "text/plain": [
       "   chrom     start        end                     name\n",
       "0   chr2         0   93139351          chr2:0-93139351\n",
       "1   chr2  93139351  242193529  chr2:93139351-242193529\n",
       "2  chr17         0   24714921         chr17:0-24714921\n",
       "3  chr17  24714921   83257441  chr17:24714921-83257441"
      ]
     },
     "execution_count": 5,
     "metadata": {},
     "output_type": "execute_result"
    }
   ],
   "source": [
    "# Use bioframe to fetch the genomic features from the UCSC.\n",
    "hg38_chromsizes = bioframe.fetch_chromsizes('hg38')\n",
    "hg38_cens = bioframe.fetch_centromeres('hg38')\n",
    "hg38_arms = bioframe.core.construction.add_ucsc_name_column(bioframe.make_chromarms(hg38_chromsizes,  hg38_cens))\n",
    "\n",
    "hg38_arms = hg38_arms[hg38_arms.chrom.isin(clr.chromnames)].reset_index(drop=True)\n",
    "hg38_arms"
   ]
  },
  {
   "cell_type": "code",
   "execution_count": 6,
   "id": "contrary-fruit",
   "metadata": {},
   "outputs": [],
   "source": [
    "# cvd == contacts-vs-distance\n",
    "cvd = cooltools.expected.diagsum(\n",
    "    clr=clr,\n",
    "    view_df=hg38_arms,\n",
    "    transforms={'balanced': lambda p: p['count']*p['weight1']*p['weight2']}\n",
    ")"
   ]
  },
  {
   "cell_type": "code",
   "execution_count": 7,
   "id": "considered-virgin",
   "metadata": {},
   "outputs": [
    {
     "data": {
      "text/html": [
       "<div>\n",
       "<style scoped>\n",
       "    .dataframe tbody tr th:only-of-type {\n",
       "        vertical-align: middle;\n",
       "    }\n",
       "\n",
       "    .dataframe tbody tr th {\n",
       "        vertical-align: top;\n",
       "    }\n",
       "\n",
       "    .dataframe thead th {\n",
       "        text-align: right;\n",
       "    }\n",
       "</style>\n",
       "<table border=\"1\" class=\"dataframe\">\n",
       "  <thead>\n",
       "    <tr style=\"text-align: right;\">\n",
       "      <th></th>\n",
       "      <th>region</th>\n",
       "      <th>diag</th>\n",
       "      <th>n_valid</th>\n",
       "      <th>count.sum</th>\n",
       "      <th>balanced.sum</th>\n",
       "    </tr>\n",
       "  </thead>\n",
       "  <tbody>\n",
       "    <tr>\n",
       "      <th>0</th>\n",
       "      <td>chr2:0-93139351</td>\n",
       "      <td>0</td>\n",
       "      <td>86055</td>\n",
       "      <td>NaN</td>\n",
       "      <td>NaN</td>\n",
       "    </tr>\n",
       "    <tr>\n",
       "      <th>1</th>\n",
       "      <td>chr2:0-93139351</td>\n",
       "      <td>1</td>\n",
       "      <td>85282</td>\n",
       "      <td>NaN</td>\n",
       "      <td>NaN</td>\n",
       "    </tr>\n",
       "    <tr>\n",
       "      <th>2</th>\n",
       "      <td>chr2:0-93139351</td>\n",
       "      <td>2</td>\n",
       "      <td>84918</td>\n",
       "      <td>10859113.0</td>\n",
       "      <td>8344.916674</td>\n",
       "    </tr>\n",
       "    <tr>\n",
       "      <th>3</th>\n",
       "      <td>chr2:0-93139351</td>\n",
       "      <td>3</td>\n",
       "      <td>84649</td>\n",
       "      <td>4742194.0</td>\n",
       "      <td>3623.417357</td>\n",
       "    </tr>\n",
       "    <tr>\n",
       "      <th>4</th>\n",
       "      <td>chr2:0-93139351</td>\n",
       "      <td>4</td>\n",
       "      <td>84442</td>\n",
       "      <td>2664596.0</td>\n",
       "      <td>2027.610660</td>\n",
       "    </tr>\n",
       "    <tr>\n",
       "      <th>...</th>\n",
       "      <td>...</td>\n",
       "      <td>...</td>\n",
       "      <td>...</td>\n",
       "      <td>...</td>\n",
       "      <td>...</td>\n",
       "    </tr>\n",
       "    <tr>\n",
       "      <th>325449</th>\n",
       "      <td>chr17:24714921-83257441</td>\n",
       "      <td>58539</td>\n",
       "      <td>0</td>\n",
       "      <td>0.0</td>\n",
       "      <td>0.000000</td>\n",
       "    </tr>\n",
       "    <tr>\n",
       "      <th>325450</th>\n",
       "      <td>chr17:24714921-83257441</td>\n",
       "      <td>58540</td>\n",
       "      <td>0</td>\n",
       "      <td>0.0</td>\n",
       "      <td>0.000000</td>\n",
       "    </tr>\n",
       "    <tr>\n",
       "      <th>325451</th>\n",
       "      <td>chr17:24714921-83257441</td>\n",
       "      <td>58541</td>\n",
       "      <td>0</td>\n",
       "      <td>0.0</td>\n",
       "      <td>0.000000</td>\n",
       "    </tr>\n",
       "    <tr>\n",
       "      <th>325452</th>\n",
       "      <td>chr17:24714921-83257441</td>\n",
       "      <td>58542</td>\n",
       "      <td>0</td>\n",
       "      <td>0.0</td>\n",
       "      <td>0.000000</td>\n",
       "    </tr>\n",
       "    <tr>\n",
       "      <th>325453</th>\n",
       "      <td>chr17:24714921-83257441</td>\n",
       "      <td>58543</td>\n",
       "      <td>0</td>\n",
       "      <td>0.0</td>\n",
       "      <td>0.000000</td>\n",
       "    </tr>\n",
       "  </tbody>\n",
       "</table>\n",
       "<p>325454 rows × 5 columns</p>\n",
       "</div>"
      ],
      "text/plain": [
       "                         region   diag  n_valid   count.sum  balanced.sum\n",
       "0               chr2:0-93139351      0    86055         NaN           NaN\n",
       "1               chr2:0-93139351      1    85282         NaN           NaN\n",
       "2               chr2:0-93139351      2    84918  10859113.0   8344.916674\n",
       "3               chr2:0-93139351      3    84649   4742194.0   3623.417357\n",
       "4               chr2:0-93139351      4    84442   2664596.0   2027.610660\n",
       "...                         ...    ...      ...         ...           ...\n",
       "325449  chr17:24714921-83257441  58539        0         0.0      0.000000\n",
       "325450  chr17:24714921-83257441  58540        0         0.0      0.000000\n",
       "325451  chr17:24714921-83257441  58541        0         0.0      0.000000\n",
       "325452  chr17:24714921-83257441  58542        0         0.0      0.000000\n",
       "325453  chr17:24714921-83257441  58543        0         0.0      0.000000\n",
       "\n",
       "[325454 rows x 5 columns]"
      ]
     },
     "execution_count": 7,
     "metadata": {},
     "output_type": "execute_result"
    }
   ],
   "source": [
    "cvd"
   ]
  },
  {
   "cell_type": "code",
   "execution_count": 34,
   "id": "based-vision",
   "metadata": {},
   "outputs": [
    {
     "name": "stderr",
     "output_type": "stream",
     "text": [
      "/users/anton.goloborodko/src/cooltools/cooltools/sandbox/expected_smoothing.py:27: RuntimeWarning: divide by zero encountered in log\n",
      "  np.log(xs),\n",
      "/users/anton.goloborodko/src/cooltools/cooltools/sandbox/expected_smoothing.py:28: RuntimeWarning: divide by zero encountered in log\n",
      "  np.log(xp),\n",
      "/users/anton.goloborodko/src/cooltools/cooltools/sandbox/expected_smoothing.py:29: RuntimeWarning: divide by zero encountered in log\n",
      "  np.log(fp),\n"
     ]
    }
   ],
   "source": [
    "cvd_smoothed = cooltools.sandbox.expected_smoothing.agg_smooth_cvd(cvd)"
   ]
  },
  {
   "cell_type": "code",
   "execution_count": 35,
   "metadata": {},
   "outputs": [],
   "source": [
    "plt.rcParams['figure.dpi'] = 150"
   ]
  },
  {
   "cell_type": "code",
   "execution_count": 37,
   "id": "compliant-installation",
   "metadata": {},
   "outputs": [
    {
     "data": {
      "image/png": "[encoded data removed]",
      "text/plain": [
       "<Figure size 900x600 with 1 Axes>"
      ]
     },
     "metadata": {
      "needs_background": "light"
     },
     "output_type": "display_data"
    }
   ],
   "source": [
    "plt.loglog(\n",
    "    cvd['diag'],\n",
    "    cvd['balanced.sum'] / cvd['n_valid']\n",
    ")\n",
    "\n",
    "plt.loglog(\n",
    "    cvd_smoothed['diag'],\n",
    "    cvd_smoothed['balanced.avg.smoothed']\n",
    ")\n",
    "ax = plt.gca()\n",
    "ax.set(aspect=1.0);"
   ]
  }
 ],
 "metadata": {
  "interpreter": {
   "hash": "f29378d166744aaaed35a8c512e1253b2589c6d47f39e24c8ea5ce46f8c1fd5a"
  },
  "kernelspec": {
   "display_name": "Python 3.7.8 64-bit ('base': conda)",
   "name": "python3"
  },
  "language_info": {
   "codemirror_mode": {
    "name": "ipython",
    "version": 3
   },
   "file_extension": ".py",
   "mimetype": "text/x-python",
   "name": "python",
   "nbconvert_exporter": "python",
   "pygments_lexer": "ipython3",
   "version": "3.7.8"
  }
 },
 "nbformat": 4,
 "nbformat_minor": 5
}
