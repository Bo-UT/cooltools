{
 "cells": [
  {
   "cell_type": "code",
   "execution_count": 2,
   "metadata": {},
   "outputs": [],
   "source": [
    "# Setup the environment first\n",
    "\n",
    "# read: https://github.com/mirnylab/cooler/issues/138 for more details:\n",
    "\n",
    "# !export MKL_NUM_THREADS=1 - # not working in a notebook ((\n",
    "# instead do this, after making sure mkl is installed\n",
    "import mkl\n",
    "mkl.set_num_threads(1)\n",
    "\n"
   ]
  },
  {
   "cell_type": "code",
   "execution_count": 3,
   "metadata": {},
   "outputs": [],
   "source": [
    "# are you developing?\n",
    "# turn module reloading on\n",
    "\n",
    "# %load_ext autoreload\n",
    "# %autoreload 2"
   ]
  },
  {
   "cell_type": "code",
   "execution_count": 3,
   "metadata": {},
   "outputs": [],
   "source": [
    "# neccessary modules to be imported\n",
    "\n",
    "import os.path as op\n",
    "from scipy.stats import poisson\n",
    "import pandas as pd\n",
    "import numpy as np\n",
    "import cooler\n",
    "\n",
    "from cooltools import dotfinder\n",
    "\n",
    "%matplotlib inline\n",
    "import matplotlib.cm as cm\n",
    "import matplotlib.pyplot as plt\n",
    "import matplotlib.colors as colors\n",
    "import matplotlib.ticker as ticker"
   ]
  },
  {
   "cell_type": "code",
   "execution_count": 4,
   "metadata": {},
   "outputs": [],
   "source": [
    "# input files to play with\n",
    "# pick Rao et al primary @10kb to enable comparison\n",
    "\n",
    "# what I have here is Rao et al 2014 sample for GM cells\n",
    "# the dataset that they refer to as \"primary\" in the paper\n",
    "# the cooler created using hic2cool tool\n",
    "# and what I have here is an older version before divisive/multiplicative\n",
    "# balancing weights situation happened\n",
    "path = \"/home/venevs/DOTS_TESTING/prim_rep_rao_Mar19\"\n",
    "basename = \"GM12878_insitu_primary_30.KR\"\n",
    "\n",
    "# this is a 10kb cooler file\n",
    "# and we should also have expected calculated for 10kb\n",
    "\n",
    "COOL10=\"{}/{}.cool\".format(path,basename)\n",
    "EXP10=\"{}/{}.cis.expected\".format(path,basename)\n",
    "\n",
    "LOOP10=\"{}/cloops_{}.bedpe\".format(path,basename)\n",
    "# # HDF10=test_scores$TESTIDX\\_$BASENAME.10000.hdf\n",
    "FLOOP10=\"{}/cloops_{}.bedpe.postprocess\".format(path,basename)\n",
    "\n",
    "RAOLOOPS=\"/home/venevs/DOTS_TESTING/rao_combined_hic/Rao2014_GM12878_primary_and_replicate_HiCCUPS_looplist.txt\"\n",
    "RAOLOOPS=\"/home/venevs/DOTS_TESTING/prim_rep_rao/Rao2014_GM12878_primary_HiCCUPS_looplist.txt\"\n",
    "\n",
    "# keeping some of the relevant CLI commands here\n",
    "# useful for preprocessing cooler files - before calling dots\n",
    "\n",
    "# 0. consider adding downloading command for Rao data e.g.\n",
    "# 0. also condsider showing hic2cool usage here to turn .hic to .cool\n",
    "\n",
    "# 1. re-balancing - cis-only is worth checking out at the very least ...\n",
    "# cooler balance -p {threads} --ignore-diags 1 --force --name 'wsnake' {input}::/resolutions/{res}\n",
    "\n",
    "# 2. calculation of expected\n",
    "# cooltools compute-expected -p {threads} --weight-name 'wsnake' --drop-diags 1 {input[0]}::/resolutions/{res}\n"
   ]
  },
  {
   "cell_type": "markdown",
   "metadata": {},
   "source": [
    "### provide arguments to replace CLI interface\n",
    "\n",
    "instead of providing comman line arguments to the `call-dots` tool we are going to provide corresponding argumnets right in the notebook:"
   ]
  },
  {
   "cell_type": "code",
   "execution_count": 5,
   "metadata": {},
   "outputs": [],
   "source": [
    "# specify parameters for call-dots\n",
    "cool_path = COOL10\n",
    "expected_path = EXP10\n",
    "expected_name = 'balanced.avg'\n",
    "nproc = 8\n",
    "max_loci_separation = 1000000\n",
    "max_nans_tolerated = 4\n",
    "tile_size = 10000000\n",
    "fdr = 0.1\n",
    "dots_clustering_radius = 21000\n",
    "verbose = True\n",
    "balancing_weight_name = \"weight\"\n",
    "output_scores = 'xxx'\n",
    "output_hists = 'yyy'\n",
    "output_calls = 'zzz'\n",
    "score_dump_mode = 'parquet'\n",
    "# score_dump_mode = 'local'\n",
    "temp_dir = './'\n",
    "no_delete_temp = True"
   ]
  },
  {
   "cell_type": "markdown",
   "metadata": {},
   "source": [
    "### load cooler and expected"
   ]
  },
  {
   "cell_type": "code",
   "execution_count": 6,
   "metadata": {},
   "outputs": [
    {
     "name": "stdout",
     "output_type": "stream",
     "text": [
      "Tokenization took: 47.11 ms\n",
      "Type conversion took: 22.51 ms\n",
      "Parser memory cleanup took: 0.01 ms\n",
      "Tokenization took: 35.54 ms\n",
      "Type conversion took: 20.07 ms\n",
      "Parser memory cleanup took: 0.00 ms\n",
      "Tokenization took: 9.75 ms\n",
      "Type conversion took: 6.25 ms\n",
      "Parser memory cleanup took: 0.00 ms\n"
     ]
    }
   ],
   "source": [
    "clr = cooler.Cooler(cool_path)\n",
    "\n",
    "expected_columns = ['chrom', 'diag', 'n_valid', expected_name]\n",
    "expected_index = ['chrom', 'diag']\n",
    "expected_dtypes = {\n",
    "    'chrom': np.str,\n",
    "    'diag': np.int64,\n",
    "    'n_valid': np.int64,\n",
    "    expected_name: np.float64\n",
    "}\n",
    "expected = pd.read_table(\n",
    "    expected_path,\n",
    "    usecols=expected_columns,\n",
    "    index_col=expected_index,\n",
    "    dtype=expected_dtypes,\n",
    "    comment=None,\n",
    "    verbose=verbose)\n",
    "# include Geoff's fix for the datatypes in expected"
   ]
  },
  {
   "cell_type": "markdown",
   "metadata": {},
   "source": [
    "### we'll do everyhting for `chr1` only to save time (reconsider it later ...)\n",
    "\n",
    "demonstration purposes only this way ..."
   ]
  },
  {
   "cell_type": "code",
   "execution_count": 7,
   "metadata": {},
   "outputs": [],
   "source": [
    "# beware of chromosome naming converntion, i.e. \"chr1\" vs \"1\" ...\n",
    "expected = expected.loc[[\"1\"]]"
   ]
  },
  {
   "cell_type": "markdown",
   "metadata": {},
   "source": [
    "### some validation\n",
    "Just making sure that expected anb cooler are \"compatible\"\n",
    "i.e. they refer to the same chromosomes and those chromosomes have the same length"
   ]
  },
  {
   "cell_type": "code",
   "execution_count": 8,
   "metadata": {},
   "outputs": [
    {
     "name": "stdout",
     "output_type": "stream",
     "text": [
      "/home/venevs/DOTS_TESTING/prim_rep_rao_Mar19/GM12878_insitu_primary_30.KR.cool and /home/venevs/DOTS_TESTING/prim_rep_rao_Mar19/GM12878_insitu_primary_30.KR.cis.expected passed cross-compatibility checks.\n"
     ]
    }
   ],
   "source": [
    "# Input validation\n",
    "# unique list of chroms mentioned in expected_path\n",
    "# do simple column-name validation for now\n",
    "get_exp_chroms = lambda df: df.index.get_level_values(\"chrom\").unique()\n",
    "expected_chroms = get_exp_chroms(expected)\n",
    "if not set(expected_chroms).issubset(clr.chromnames):\n",
    "    raise ValueError(\n",
    "        \"Chromosomes in {} must be subset of \".format(expected_path) +\n",
    "        \"chromosomes in cooler {}\".format(cool_path))\n",
    "# check number of bins\n",
    "# compute # of bins by comparing matching indexes\n",
    "get_exp_bins = lambda df, ref_chroms: (\n",
    "    df.index.get_level_values(\"chrom\").isin(ref_chroms).sum())\n",
    "expected_bins = get_exp_bins(expected, expected_chroms)\n",
    "cool_bins = clr.bins()[:][\"chrom\"].isin(expected_chroms).sum()\n",
    "if not (expected_bins == cool_bins):\n",
    "    raise ValueError(\n",
    "        \"Number of bins is not matching: \",\n",
    "        \"{} in {}, and {} in {} for chromosomes {}\".format(\n",
    "            expected_bins,\n",
    "            expected_path,\n",
    "            cool_bins,\n",
    "            cool_path,\n",
    "            expected_chroms))\n",
    "if verbose:\n",
    "    print(\"{} and {} passed cross-compatibility checks.\".format(\n",
    "        cool_path, expected_path))"
   ]
  },
  {
   "cell_type": "markdown",
   "metadata": {},
   "source": [
    "### prepare some other parameters "
   ]
  },
  {
   "cell_type": "code",
   "execution_count": 9,
   "metadata": {},
   "outputs": [
    {
     "name": "stdout",
     "output_type": "stream",
     "text": [
      "we are dealing with the data binned at 10000\n"
     ]
    }
   ],
   "source": [
    "# Prepare some parameters.\n",
    "binsize = clr.binsize\n",
    "loci_separation_bins = int(max_loci_separation / binsize)\n",
    "tile_size_bins = int(tile_size / binsize)\n",
    "balance_factor = 1.0  #clr._load_attrs(\"bins/weight\")[\"scale\"]\n",
    "\n",
    "print(\"we are dealing with the data binned at {}\".format(binsize))\n",
    "\n",
    "# clustering would deal with bases-units for now, so supress this for now\n",
    "# clustering_radius_bins = int(dots_clustering_radius/binsize)\n",
    "\n",
    "# pre-defined kernel types that are going to be used in the analysis\n",
    "ktypes = ['donut', 'vertical', 'horizontal', 'lowleft']"
   ]
  },
  {
   "cell_type": "markdown",
   "metadata": {},
   "source": [
    "### Kernels used to define local enrichment of a pixel\n",
    "\n",
    " - Dots observed on Hi-C heatmaps as *small* and concentrated clusters of locally enriched pixels.\n",
    " - Biologically relevant sizes of such clusters and their surroundings are empirically defined at `~50kb` for the diameter of clusters, and `~100kb` for the diameter of the local surrounding\n",
    " - Several types of kernels (i.e. local environments) could be used to rule out unwanted enrichment types, e.g. elongated clusters, large corners, etc.\n",
    " - One can choose from pre-defined set of kernels from *Rao et al 2014*, or provide custome ones\n",
    " - Even for the predefined set of kernels one can control their parameters `w` and `p`, where `2w+1` is the outter dimensions of kernel's footprint and `2p+1` is the inner one, the approximate size of an enriched cluster of pixels\n",
    " - function `recommend_kernel_params` would yield recommended `w` and `p` for a given bin size, as in *Rao et al 2014*, otherwise feel free to experiment with those"
   ]
  },
  {
   "cell_type": "code",
   "execution_count": 10,
   "metadata": {},
   "outputs": [
    {
     "name": "stdout",
     "output_type": "stream",
     "text": [
      "Kernel parameters w=5 p=2\n"
     ]
    }
   ],
   "source": [
    "w,p = dotfinder.recommend_kernel_params(binsize)\n",
    "print(\"Kernel parameters w={} p={}\".format(w,p))"
   ]
  },
  {
   "cell_type": "code",
   "execution_count": 11,
   "metadata": {},
   "outputs": [],
   "source": [
    "kernels = {k: dotfinder.get_kernel(w, p, k) for k in ktypes}\n",
    "\n",
    "# list of tile coordinate ranges\n",
    "tiles = list(\n",
    "    dotfinder.heatmap_tiles_generator_diag(\n",
    "        clr,\n",
    "        expected_chroms,\n",
    "        w,\n",
    "        tile_size_bins,\n",
    "        loci_separation_bins\n",
    "    )\n",
    ")   "
   ]
  },
  {
   "cell_type": "code",
   "execution_count": 12,
   "metadata": {},
   "outputs": [
    {
     "data": {
      "text/plain": [
       "[Text(1, 0, 'Excluded from calculation'),\n",
       " Text(1, 0, 'Included in calculations')]"
      ]
     },
     "execution_count": 12,
     "metadata": {},
     "output_type": "execute_result"
    },
    {
     "data": {
      "image/png": "[encoded data removed]",
      "text/plain": [
       "<Figure size 432x288 with 2 Axes>"
      ]
     },
     "metadata": {
      "needs_background": "light"
     },
     "output_type": "display_data"
    }
   ],
   "source": [
    "# it is important to demonstrate filters here \n",
    "# consider moving plotting code elsewhere or simplify it significantly ...\n",
    "# split cell above and demonstrate kernels - it's nice:\n",
    "\n",
    "ktype='donut'\n",
    "kernel= kernels[ktype]\n",
    "y,x = np.ogrid[-w:w+1, -w:w+1]\n",
    "\n",
    "extent = (0-0.5,\n",
    "          x.size-0.5,\n",
    "          0-0.5,\n",
    "          y.size-0.5)\n",
    "########################\n",
    "plt.clf()\n",
    "# axes setup\n",
    "ax = plt.gca()\n",
    "# discrete colormap with 2 colors ...\n",
    "cmap = colors.ListedColormap([plt.cm.viridis(0),\n",
    "                              plt.cm.viridis(1.0)])\n",
    "# kernel:\n",
    "imk = ax.imshow(kernel,\n",
    "                alpha=0.7,\n",
    "                cmap=cmap,\n",
    "                extent=extent,\n",
    "                interpolation='nearest')\n",
    "ax.set_xticks([])\n",
    "ax.set_yticks([])\n",
    "ax.set_xticklabels('',visible=False)\n",
    "ax.set_yticklabels('',visible=False)\n",
    "ax.set_title(\"{} kernel\".format(ktype),fontsize=16)\n",
    "\n",
    "# add checkerboard to depict pixels:\n",
    "checkerboard = np.add.outer(range(x.size),\n",
    "                            range(y.size)) % 2\n",
    "ax.imshow(checkerboard,\n",
    "        cmap=plt.cm.gray,\n",
    "        interpolation='nearest',\n",
    "        extent=extent,\n",
    "        alpha=0.3)\n",
    "#####################\n",
    "# colorbar and that's it:\n",
    "cb = plt.colorbar(imk)\n",
    "cb.ax.get_yaxis().set_major_locator(ticker.MaxNLocator(1))\n",
    "cb.ax.set_yticklabels(['Excluded from calculation','Included in calculations'])"
   ]
  },
  {
   "cell_type": "markdown",
   "metadata": {},
   "source": [
    "### Getting to the calculations of locally-adjusted expected\n",
    "\n",
    " - for demonstration and debugging purposes we are going to dump the dataframe with locally adjusted expected right in place (i.e. in memory).\n",
    " - This might be also ok for smaller genomes and potentially for small subsets of large genomes.\n",
    " - This is not recommended whatsoever for genome-wide dot-calling.\n",
    "\n",
    "A side note, we've tried to store all of the values in a separate file,\n",
    "but practice shows that for large genomes even parquet/hdf5 are not fast enough.\n",
    "Thus using a **2-pass** strategy seems to be the best option indeed.\n",
    "\n",
    "**2-pass**: calculate locally-adjusted expected for each pixel and use this value *immediately* to build a hitogram with predefined bins, then recalculate locally-adjusted expected values and again use them *in place* to select significantly enriched pixels.\n",
    "\n",
    "\n",
    " - an example on how to store locally adjusted expected in a temporary file:\n",
    "```python\n",
    "import tempfile\n",
    "tmp_scores = tempfile.NamedTemporaryFile(\n",
    "    suffix='.parquet',\n",
    "    delete= False,\n",
    "    dir='.')\n",
    "```\n",
    " - now calculate locally adjusted expected:\n",
    "```python\n",
    "loc_adj_exp = dotfinder.scoring_step(clr,\n",
    "                    expected,\n",
    "                    expected_name,\n",
    "                    \"weight\",\n",
    "                    tiles,\n",
    "                    kernels,\n",
    "                    max_nans_tolerated,\n",
    "                    loci_separation_bins,\n",
    "                    tmp_scores,\n",
    "                    nproc,\n",
    "                    score_dump_mode,\n",
    "                    verbose)\n",
    "```\n",
    " - histogramming using temporary input:\n",
    "```python\n",
    "gw_hist = dotfinder.histogramming_step(tmp_scores,\n",
    "                                    score_dump_mode,\n",
    "                                    kernels,\n",
    "                                    ledges,\n",
    "                                    output_path=None,\n",
    "                                    nproc=1,\n",
    "                                    verbose=False)\n",
    "```"
   ]
  },
  {
   "cell_type": "code",
   "execution_count": 13,
   "metadata": {},
   "outputs": [
    {
     "name": "stdout",
     "output_type": "stream",
     "text": [
      "Preparing to convolve 49 tiles:\n",
      "creating a Pool of 8 workers to tackle 49 tiles\n",
      "returning local copy of the dataframe ...\n"
     ]
    }
   ],
   "source": [
    "# locally adjusted returned in place for just 1 chromosome:\n",
    "la_exp = dotfinder.scoring_step(clr,\n",
    "                    expected,\n",
    "                    expected_name,\n",
    "                    balancing_weight_name,\n",
    "                    tiles,\n",
    "                    kernels,\n",
    "                    1,\n",
    "                    loci_separation_bins,\n",
    "                    None,\n",
    "                    nproc,\n",
    "                    \"local\",\n",
    "                    verbose)"
   ]
  },
  {
   "cell_type": "markdown",
   "metadata": {},
   "source": [
    "### that is how locally adjusted expected dataframe looks like:\n",
    "\n",
    "bin1_id|bin2_id|count|la_exp.donut.value|la_exp.vertical.value|la_exp.horizontal.value|la_exp.lowleft.value\n",
    "---|---|---|---|---|---|---\n",
    "76|87|20|16.343724585366036|19.112339277607475|14.789222300465001|17.55971648783403\n",
    "76|88|29|21.109446293886823|23.76004284738352|19.119195822013385|23.30209962326733\n",
    "76|89|15|17.254427190306977|18.545853810657224|14.695003640984938|19.784933947834944\n",
    "76|90|21|14.277047600786759|14.642767228999286|12.928217571836717|17.27371365389384\n",
    "76|91|13|11.22588212884422|11.279966641429564|10.064704945467405|14.514049136987758\n",
    "\n",
    " - here we use `cooler`-based `bin1/2_id` instead of actual genomic coordinates for compactness and performance reasons.\n",
    " - Observed is recorded in the `count` columns, again as in the parent `cooler`-file.\n",
    " - observer and all types of expected are expressed in the raw units in order to apply Poisson statistics to the data\n",
    "\n",
    "\n",
    "### Now let's load in, some known called/annotated dots to see where they end up on the obs/exp scatter-plot"
   ]
  },
  {
   "cell_type": "code",
   "execution_count": 14,
   "metadata": {},
   "outputs": [],
   "source": [
    "# let us read in some of the known dots to display stronger ones on the obs/exp scatter plot:\n",
    "raodots = pd.read_csv(RAOLOOPS,sep='\\t')\n",
    "# beware of the UCSC/NCBI chromosome naming conventions `X` vs `chrX` ...\n",
    "raodots_chr1 = raodots[raodots['chr1']=='1']\n",
    "\n",
    "# do we need a notion of strength here ?\n",
    "# #let's quickly define some measure of strengths for the dots:\n",
    "# raodots_chr1['strength'] = raodots_chr1['o']/raodots_chr1['e_donut']\n",
    "# # now sort and select only the strongest (according to this measure):\n",
    "# raodots_chr1_strong = raodots_chr1.sort_values(by=['o','strength'],ascending=False)\n",
    "\n",
    "# let's convert genomic coordinates into `cooler`-based bin_id-s:\n",
    "bin1_ids = (raodots_chr1['x1']/binsize).astype('int')\n",
    "bin2_ids = (raodots_chr1['y1']/binsize).astype('int')\n",
    "# beware Rao et al, use x1,x2 for start1,end1 and y1,y2 for start2,end2\n",
    "\n",
    "# now let's look up these called/annotated dots in our pre-calculated la_exp dataframe:\n",
    "rao_dots_idxs = list(zip(bin1_ids,bin2_ids))\n",
    "la_exp_indexed = la_exp.set_index(['bin1_id','bin2_id'])\n",
    "\n",
    "# these are the rao-dots that we have caculated locally adjusted expected for:\n",
    "intersect_raodots = la_exp_indexed[la_exp_indexed.index.isin(rao_dots_idxs)]\n",
    "# we don't have for every rao-dot since we don't get close enough to diagonal and\n",
    "# potentially treat NaNs differently."
   ]
  },
  {
   "cell_type": "markdown",
   "metadata": {},
   "source": [
    "### obs/exp scatter\n",
    "\n",
    " - let's plot a scatter of obs/exp for a subsample of surveyed pixels\n",
    " - highlight called rao-dots on this scatter plot\n",
    " - we need subsampling because there are a LOT of pixels"
   ]
  },
  {
   "cell_type": "code",
   "execution_count": 17,
   "metadata": {
    "scrolled": false
   },
   "outputs": [
    {
     "data": {
      "text/plain": [
       "<matplotlib.colorbar.Colorbar at 0x7f35c8c01358>"
      ]
     },
     "execution_count": 17,
     "metadata": {},
     "output_type": "execute_result"
    },
    {
     "data": {
      "image/png": "[encoded data removed]",
      "text/plain": [
       "<Figure size 432x288 with 2 Axes>"
      ]
     },
     "metadata": {
      "needs_background": "light"
     },
     "output_type": "display_data"
    }
   ],
   "source": [
    "xlabel = 'la_exp.donut.value'\n",
    "ylabel = 'count'\n",
    "\n",
    "# we might consider \"downsampling\" la_exp dataframe in order to make obs/exp scatter plot less busy:\n",
    "sub_la_exp = la_exp.sample(frac=0.1)\n",
    "\n",
    "sct = plt.scatter(sub_la_exp[xlabel],\n",
    "                  sub_la_exp[ylabel],\n",
    "                  # color dots on the scatter by their genomic separation\n",
    "                  c=sub_la_exp['bin2_id']-sub_la_exp['bin1_id'],\n",
    "                  vmin=0,\n",
    "                  vmax = 100,\n",
    "                  cmap=\"YlOrRd_r\")\n",
    "\n",
    "\n",
    "\n",
    "plt.scatter(intersect_raodots[xlabel],\n",
    "            intersect_raodots[ylabel],\n",
    "            s=80,\n",
    "            facecolors='none',\n",
    "            edgecolors='b')\n",
    "\n",
    "# we can add a visual of the lambda-chunking grid on top of obs/exp scatter ...\n",
    "# plt.vlines(ledges[1:-15],ymin=0.5,ymax=900,color='red')\n",
    "\n",
    "ax = plt.gca()\n",
    "fig = plt.gcf()\n",
    "\n",
    "ax.set_xscale('log')\n",
    "ax.set_yscale('log')\n",
    "\n",
    "ax.set_xlim(0.5,400)\n",
    "ax.set_ylim(0.5,900)\n",
    "\n",
    "ax.set_ylabel(\"count\")\n",
    "ax.set_xlabel(\"la_exp value\")\n",
    "\n",
    "fig.colorbar(sct)"
   ]
  },
  {
   "cell_type": "code",
   "execution_count": 89,
   "metadata": {},
   "outputs": [
    {
     "data": {
      "text/plain": [
       "Text(0, 0.5, 'la_exp value')"
      ]
     },
     "execution_count": 89,
     "metadata": {},
     "output_type": "execute_result"
    },
    {
     "data": {
      "image/png": "[encoded data removed]",
      "text/plain": [
       "<Figure size 432x288 with 1 Axes>"
      ]
     },
     "metadata": {
      "needs_background": "light"
     },
     "output_type": "display_data"
    }
   ],
   "source": [
    "xlabel = 'la_exp.donut.value'\n",
    "ylabel = 'count'\n",
    "\n",
    "plt.scatter(cccc['bin2_id']-cccc['bin1_id'],(cccc[xlabel]))\n",
    "# plt.scatter(dddd[xlabel],dddd[ylabel], s=80, facecolors='none', edgecolors='r')\n",
    "# plt.scatter(eeee[xlabel],eeee[ylabel], s=80, facecolors='none', edgecolors='y')\n",
    "\n",
    "ax = plt.gca()\n",
    "\n",
    "ax.set_xlabel(\"genomic separation\")\n",
    "ax.set_ylabel(\"la_exp value\")\n"
   ]
  },
  {
   "cell_type": "code",
   "execution_count": 71,
   "metadata": {},
   "outputs": [
    {
     "data": {
      "text/plain": [
       "Text(0.5, 0, '# of interactions')"
      ]
     },
     "execution_count": 71,
     "metadata": {},
     "output_type": "execute_result"
    },
    {
     "data": {
      "image/png": "[encoded data removed]",
      "text/plain": [
       "<Figure size 432x288 with 1 Axes>"
      ]
     },
     "metadata": {
      "needs_background": "light"
     },
     "output_type": "display_data"
    }
   ],
   "source": [
    "# for large genomes- calculate histograms i.e. start with lambda-chunking right away:\n",
    "\n",
    "nlchunks = dotfinder.HiCCUPS_W1_MAX_INDX\n",
    "base = 2 ** (1/3)\n",
    "ledges = np.concatenate((\n",
    "    [-np.inf],\n",
    "    np.logspace(0, nlchunks - 1, num=nlchunks, base=base, dtype=np.float),\n",
    "    [np.inf]))\n",
    "\n",
    "#################################################\n",
    "plt.plot(ledges,np.zeros_like(ledges),'r|')\n",
    "plt.title(\"those freaking lambda-chunks/bins/whatever\")\n",
    "plt.xlabel(\"# of interactions\")"
   ]
  },
  {
   "cell_type": "code",
   "execution_count": 51,
   "metadata": {},
   "outputs": [
    {
     "name": "stdout",
     "output_type": "stream",
     "text": [
      "Preparing to convolve 49 tiles:\n",
      "creating a Pool of 8 workers to tackle 49 tiles\n"
     ]
    }
   ],
   "source": [
    "gw_hist = dotfinder.scoring_and_histogramming_step(clr,\n",
    "                                        expected,\n",
    "                                        expected_name,\n",
    "                                        balancing_weight_name,\n",
    "                                        tiles,\n",
    "                                        kernels,\n",
    "                                        ledges,\n",
    "                                        max_nans_tolerated,\n",
    "                                        loci_separation_bins,\n",
    "                                        nproc,\n",
    "                                        verbose)\n"
   ]
  },
  {
   "cell_type": "markdown",
   "metadata": {},
   "source": [
    "### determine thresholds using the fdr thing ..."
   ]
  },
  {
   "cell_type": "code",
   "execution_count": null,
   "metadata": {},
   "outputs": [],
   "source": [
    "##### to be continued ..."
   ]
  },
  {
   "cell_type": "code",
   "execution_count": 52,
   "metadata": {},
   "outputs": [],
   "source": [
    "threshold_df, qvalues = dotfinder.determine_thresholds(\n",
    "    kernels, ledges, gw_hist, 0.99)"
   ]
  },
  {
   "cell_type": "markdown",
   "metadata": {},
   "source": [
    "### oveview of the 2D histogram \n",
    "\n",
    "x-bins corresponding to the $\\lambda$-chunks and y-bins correspodning to the observed counts ..."
   ]
  },
  {
   "cell_type": "code",
   "execution_count": 53,
   "metadata": {},
   "outputs": [
    {
     "name": "stderr",
     "output_type": "stream",
     "text": [
      "/home/venevs/miniconda3/envs/dots-stable/lib/python3.6/site-packages/ipykernel_launcher.py:3: RuntimeWarning: divide by zero encountered in log\n",
      "  This is separate from the ipykernel package so we can avoid doing imports until\n"
     ]
    },
    {
     "data": {
      "text/plain": [
       "Text(0.5, 0, 'lambda-chunks')"
      ]
     },
     "execution_count": 53,
     "metadata": {},
     "output_type": "execute_result"
    },
    {
     "data": {
      "image/png": "[encoded data removed]",
      "text/plain": [
       "<Figure size 720x2160 with 1 Axes>"
      ]
     },
     "metadata": {
      "needs_background": "light"
     },
     "output_type": "display_data"
    }
   ],
   "source": [
    "fig = plt.gcf()\n",
    "fig.set_size_inches(10,30)\n",
    "plt.imshow(np.log(gw_hist[\"donut\"]),aspect=0.05)\n",
    "ax = plt.gca()\n",
    "ax.plot(np.arange(threshold_df[\"donut\"].values.size)-0.05,threshold_df[\"donut\"].values,color='r',marker=\"_\",linestyle=\":\")\n",
    "\n",
    "ax.set_ylabel(\"observed counts\")\n",
    "ax.set_xlabel(\"lambda-chunks\")"
   ]
  },
  {
   "cell_type": "markdown",
   "metadata": {},
   "source": [
    "### a histogram for a particular $\\lambda$-chunk"
   ]
  },
  {
   "cell_type": "code",
   "execution_count": 20,
   "metadata": {},
   "outputs": [
    {
     "name": "stdout",
     "output_type": "stream",
     "text": [
      "5962\n"
     ]
    },
    {
     "data": {
      "text/plain": [
       "<BarContainer object of 1 artists>"
      ]
     },
     "execution_count": 20,
     "metadata": {},
     "output_type": "execute_result"
    },
    {
     "data": {
      "image/png": "[encoded data removed]",
      "text/plain": [
       "<Figure size 432x288 with 1 Axes>"
      ]
     },
     "metadata": {
      "needs_background": "light"
     },
     "output_type": "display_data"
    }
   ],
   "source": [
    "binid = 20\n",
    "print(gw_hist[\"donut\"].iloc[:,binid].values.sum())\n",
    "hs = np.clip(gw_hist[\"donut\"].iloc[:,binid].values,a_min=None,a_max=10000)\n",
    "# hs = np.log(gw_hist[\"donut\"].iloc[:,binid].values)\n",
    "plt.bar(gw_hist[\"donut\"].iloc[:,binid].index,hs)\n",
    "plt.bar(threshold_df[\"donut\"].iloc[binid],hs.max(),width=10,color='red')\n",
    "# plt.gca().set_ylim(0,1)\n",
    "# plt.gca().set_xlim(0,60)\n",
    "# gw_hist[\"donut\"].iloc[:,20]"
   ]
  },
  {
   "cell_type": "markdown",
   "metadata": {},
   "source": [
    "### now extract \"significant\" pixels using the defined thresholds_df and the same parquet file with the score dump as for the histogramming step"
   ]
  },
  {
   "cell_type": "code",
   "execution_count": 33,
   "metadata": {},
   "outputs": [
    {
     "name": "stdout",
     "output_type": "stream",
     "text": [
      "parquet input ...\n",
      "Number of filtered pixels 21545\n"
     ]
    }
   ],
   "source": [
    "filtered_pixels = dotfinder.extraction_step(tmp_scores,\n",
    "                                            score_dump_mode,\n",
    "                                            kernels,\n",
    "                                            ledges,\n",
    "                                            threshold_df,\n",
    "                                            nproc=1,\n",
    "                                            output_path=output_scores,\n",
    "                                            verbose=False)\n",
    "\n",
    "print(\"Number of filtered pixels {}\".format(len(filtered_pixels)))"
   ]
  },
  {
   "cell_type": "markdown",
   "metadata": {},
   "source": [
    "### annotate filtered pixeles and cluster them -> get centroids after that to proceed with post-processing ..."
   ]
  },
  {
   "cell_type": "code",
   "execution_count": 40,
   "metadata": {},
   "outputs": [],
   "source": [
    "filtered_pixels_qvals = dotfinder.annotate_pixels_with_qvalues(filtered_pixels,\n",
    "                                                                qvalues,\n",
    "                                                                kernels)"
   ]
  },
  {
   "cell_type": "code",
   "execution_count": 42,
   "metadata": {},
   "outputs": [
    {
     "name": "stderr",
     "output_type": "stream",
     "text": [
      "/home/venevs/miniconda3/envs/dots-latest/lib/python3.6/site-packages/sklearn/cluster/birch.py:77: FutureWarning: Using a non-tuple sequence for multidimensional indexing is deprecated; use `arr[tuple(seq)]` instead of `arr[seq]`. In the future this will be interpreted as an array index, `arr[np.array(seq)]`, which will result either in an error or a different result.\n",
      "  node1_dist, node2_dist = dist[[farthest_idx]]\n"
     ]
    },
    {
     "name": "stdout",
     "output_type": "stream",
     "text": [
      "Clustering is completed:\n",
      "6296 clusters detected\n",
      "3.42+/-3.53 mean size\n",
      "\n",
      "Clustering is over!\n",
      "Number of clustered pixels, i.e. centroids 6296\n"
     ]
    }
   ],
   "source": [
    "filtered_pixels_annotated = cooler.annotate(filtered_pixels_qvals, clr.bins()[:])\n",
    "centroids = dotfinder.clustering_step(\n",
    "                            filtered_pixels_annotated,\n",
    "                            expected_chroms,\n",
    "                            dots_clustering_radius,\n",
    "                            verbose)\n",
    "print(\"Number of clustered pixels, i.e. centroids {}\".format(len(centroids)))"
   ]
  },
  {
   "cell_type": "code",
   "execution_count": 45,
   "metadata": {},
   "outputs": [],
   "source": [
    "final_out = dotfinder.thresholding_step(centroids)"
   ]
  },
  {
   "cell_type": "code",
   "execution_count": 46,
   "metadata": {},
   "outputs": [
    {
     "data": {
      "text/plain": [
       "2327"
      ]
     },
     "execution_count": 46,
     "metadata": {},
     "output_type": "execute_result"
    }
   ],
   "source": [
    "len(final_out)"
   ]
  },
  {
   "cell_type": "markdown",
   "metadata": {},
   "source": [
    "## stuff that require clean up, but might be usefull in general "
   ]
  },
  {
   "cell_type": "code",
   "execution_count": 21,
   "metadata": {},
   "outputs": [
    {
     "name": "stderr",
     "output_type": "stream",
     "text": [
      "/home/venevs/miniconda3/envs/dots-stable/lib/python3.6/site-packages/ipykernel_launcher.py:11: RuntimeWarning: divide by zero encountered in log\n",
      "  # This is added back by InteractiveShellApp.init_path()\n"
     ]
    },
    {
     "data": {
      "text/plain": [
       "<matplotlib.image.AxesImage at 0x7f3b8ccf1ac8>"
      ]
     },
     "execution_count": 21,
     "metadata": {},
     "output_type": "execute_result"
    },
    {
     "data": {
      "image/png": "[encoded data removed]",
      "text/plain": [
       "<Figure size 432x288 with 1 Axes>"
      ]
     },
     "metadata": {
      "needs_background": "light"
     },
     "output_type": "display_data"
    }
   ],
   "source": [
    "# plt.imshow(np.log(clr.matrix()[18030:18100,18030:18100]),cmap='YlOrRd')\n",
    "# plt.scatter(53,18,s=80, facecolors='none', edgecolors='b')\n",
    "\n",
    "bin1,bin2 = 18030+18,18030+53\n",
    "\n",
    "bin1_n,bin2_n = 18030+23,18030+49\n",
    "\n",
    "\n",
    "bin1,bin2 = 24322, 24334\n",
    "\n",
    "plt.imshow(np.log(clr.matrix(balance=True)[bin1-20:bin1+20,bin2-20:bin2+20]),cmap='YlOrRd')\n",
    "\n",
    "# something to have in mind - is the difference between JUicer balancing and cooler balacning ...\n",
    "# MAD max filtering in particular\n",
    "# in Juicer some of thesparse/low coverage regions are kept - what re the effects on the distriubtions, etc\n",
    "# to be seen\n",
    "# here is the region for reference: chr1:242,019,651-244,387,558 & chr1:242,713,339-243,695,154 [offset 0,0:0,0]\n",
    "\n",
    "dddd = cccc[(cccc['bin1_id']==bin1)&(cccc['bin2_id']==bin2)]\n",
    "eeee = cccc[(cccc['bin1_id']==bin1_n)&(cccc['bin2_id']==bin2_n)]\n",
    "\n",
    "(cccc['bin2_id']-cccc['bin1_id']).min()"
   ]
  }
 ],
 "metadata": {
  "kernelspec": {
   "display_name": "Python 3",
   "language": "python",
   "name": "python3"
  },
  "language_info": {
   "codemirror_mode": {
    "name": "ipython",
    "version": 3
   },
   "file_extension": ".py",
   "mimetype": "text/x-python",
   "name": "python",
   "nbconvert_exporter": "python",
   "pygments_lexer": "ipython3",
   "version": "3.6.7"
  }
 },
 "nbformat": 4,
 "nbformat_minor": 2
}
