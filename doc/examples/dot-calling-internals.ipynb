{
 "cells": [
  {
   "cell_type": "code",
   "execution_count": 7,
   "metadata": {},
   "outputs": [],
   "source": [
    "# Setup the environment first\n",
    "\n",
    "# read: https://github.com/mirnylab/cooler/issues/138 for more details:\n",
    "\n",
    "# !export MKL_NUM_THREADS=1 - # not working in a notebook ((\n",
    "# instead do this, after making sure mkl is installed\n",
    "import mkl\n",
    "mkl.set_num_threads(1)\n",
    "\n"
   ]
  },
  {
   "cell_type": "code",
   "execution_count": 3,
   "metadata": {},
   "outputs": [],
   "source": [
    "# are you developing?\n",
    "# turn module reloading on\n",
    "\n",
    "# %load_ext autoreload\n",
    "# %autoreload 2"
   ]
  },
  {
   "cell_type": "code",
   "execution_count": 4,
   "metadata": {},
   "outputs": [],
   "source": [
    "# neccessary modules to be imported\n",
    "\n",
    "import os.path as op\n",
    "from scipy.stats import poisson\n",
    "import pandas as pd\n",
    "import numpy as np\n",
    "import cooler\n",
    "\n",
    "from cooltools import dotfinder\n",
    "\n",
    "%matplotlib inline\n",
    "import matplotlib.cm as cm\n",
    "import matplotlib.pyplot as plt\n",
    "import matplotlib.colors as colors\n",
    "import matplotlib.ticker as ticker"
   ]
  },
  {
   "cell_type": "code",
   "execution_count": 55,
   "metadata": {},
   "outputs": [],
   "source": [
    "# input files to play with\n",
    "# pick Rao et al primary @10kb to enable comparison\n",
    "\n",
    "# what I have here is Rao et al 2014 sample for GM cells\n",
    "# the dataset that they refer to as \"primary\" in the paper\n",
    "# the cooler created using hic2cool tool\n",
    "# and what I have here is an older version before divisive/multiplicative\n",
    "# balancing weights situation happened\n",
    "path = \"/home/venevs/DOTS_TESTING/prim_rep_rao_Mar19\"\n",
    "basename = \"GM12878_insitu_primary_30.KR\"\n",
    "\n",
    "# this is a 10kb cooler file\n",
    "# and we should also have expected calculated for 10kb\n",
    "\n",
    "COOL10=\"{}/{}.cool\".format(path,basename)\n",
    "EXP10=\"{}/{}.cis.expected\".format(path,basename)\n",
    "\n",
    "LOOP10=\"{}/cloops_{}.bedpe\".format(path,basename)\n",
    "# # HDF10=test_scores$TESTIDX\\_$BASENAME.10000.hdf\n",
    "FLOOP10=\"{}/cloops_{}.bedpe.postprocess\".format(path,basename)\n",
    "\n",
    "RAOLOOPS=\"/home/venevs/DOTS_TESTING/rao_combined_hic/Rao2014_GM12878_primary_and_replicate_HiCCUPS_looplist.txt\"\n",
    "RAOLOOPS=\"/home/venevs/DOTS_TESTING/prim_rep_rao/Rao2014_GM12878_primary_HiCCUPS_looplist.txt\"\n",
    "\n",
    "# keeping some of the relevant CLI commands here\n",
    "# useful for preprocessing cooler files - before calling dots\n",
    "\n",
    "# 0. consider adding downloading command for Rao data e.g.\n",
    "# 0. also condsider showing hic2cool usage here to turn .hic to .cool\n",
    "\n",
    "# 1. re-balancing - cis-only is worth checking out at the very least ...\n",
    "# cooler balance -p {threads} --ignore-diags 1 --force --name 'wsnake' {input}::/resolutions/{res}\n",
    "\n",
    "# 2. calculation of expected\n",
    "# cooltools compute-expected -p {threads} --weight-name 'wsnake' --drop-diags 1 {input[0]}::/resolutions/{res}\n"
   ]
  },
  {
   "cell_type": "markdown",
   "metadata": {},
   "source": [
    "### provide arguments to replace CLI interface\n",
    "\n",
    "instead of providing comman line arguments to the `call-dots` tool we are going to provide corresponding argumnets right in the notebook:"
   ]
  },
  {
   "cell_type": "code",
   "execution_count": 9,
   "metadata": {},
   "outputs": [],
   "source": [
    "# specify parameters for call-dots\n",
    "cool_path = COOL10\n",
    "expected_path = EXP10\n",
    "expected_name = 'balanced.avg'\n",
    "nproc = 8\n",
    "max_loci_separation = 1000000\n",
    "max_nans_tolerated = 4\n",
    "tile_size = 10000000\n",
    "fdr = 0.1\n",
    "dots_clustering_radius = 21000\n",
    "verbose = True\n",
    "balancing_weight_name = \"weight\"\n",
    "output_scores = 'xxx'\n",
    "output_hists = 'yyy'\n",
    "output_calls = 'zzz'\n",
    "score_dump_mode = 'parquet'\n",
    "# score_dump_mode = 'local'\n",
    "temp_dir = './'\n",
    "no_delete_temp = True"
   ]
  },
  {
   "cell_type": "markdown",
   "metadata": {},
   "source": [
    "### load cooler and expected"
   ]
  },
  {
   "cell_type": "code",
   "execution_count": 10,
   "metadata": {},
   "outputs": [
    {
     "name": "stdout",
     "output_type": "stream",
     "text": [
      "Tokenization took: 47.45 ms\n",
      "Type conversion took: 19.71 ms\n",
      "Parser memory cleanup took: 0.01 ms\n",
      "Tokenization took: 31.80 ms\n",
      "Type conversion took: 18.99 ms\n",
      "Parser memory cleanup took: 0.01 ms\n",
      "Tokenization took: 9.56 ms\n",
      "Type conversion took: 5.91 ms\n",
      "Parser memory cleanup took: 0.00 ms\n"
     ]
    }
   ],
   "source": [
    "clr = cooler.Cooler(cool_path)\n",
    "\n",
    "expected_columns = ['chrom', 'diag', 'n_valid', expected_name]\n",
    "expected_index = ['chrom', 'diag']\n",
    "expected_dtypes = {\n",
    "    'chrom': np.str,\n",
    "    'diag': np.int64,\n",
    "    'n_valid': np.int64,\n",
    "    expected_name: np.float64\n",
    "}\n",
    "expected = pd.read_table(\n",
    "    expected_path,\n",
    "    usecols=expected_columns,\n",
    "    index_col=expected_index,\n",
    "    dtype=expected_dtypes,\n",
    "    comment=None,\n",
    "    verbose=verbose)\n",
    "# include Geoff's fix for the datatypes in expected"
   ]
  },
  {
   "cell_type": "markdown",
   "metadata": {},
   "source": [
    "### we'll do everyhting for `chr1` only to save time (reconsider it later ...)\n",
    "\n",
    "demonstration purposes only this way ..."
   ]
  },
  {
   "cell_type": "code",
   "execution_count": 11,
   "metadata": {},
   "outputs": [],
   "source": [
    "# beware of chromosome naming converntion, i.e. \"chr1\" vs \"1\" ...\n",
    "expected = expected.loc[[\"1\"]]"
   ]
  },
  {
   "cell_type": "markdown",
   "metadata": {},
   "source": [
    "### some validation\n",
    "Just making sure that expected anb cooler are \"compatible\"\n",
    "i.e. they refer to the same chromosomes and those chromosomes have the same length"
   ]
  },
  {
   "cell_type": "code",
   "execution_count": 12,
   "metadata": {},
   "outputs": [
    {
     "name": "stdout",
     "output_type": "stream",
     "text": [
      "/home/venevs/DOTS_TESTING/prim_rep_rao_Mar19/GM12878_insitu_primary_30.KR.cool and /home/venevs/DOTS_TESTING/prim_rep_rao_Mar19/GM12878_insitu_primary_30.KR.cis.expected passed cross-compatibility checks.\n"
     ]
    }
   ],
   "source": [
    "# Input validation\n",
    "# unique list of chroms mentioned in expected_path\n",
    "# do simple column-name validation for now\n",
    "get_exp_chroms = lambda df: df.index.get_level_values(\"chrom\").unique()\n",
    "expected_chroms = get_exp_chroms(expected)\n",
    "if not set(expected_chroms).issubset(clr.chromnames):\n",
    "    raise ValueError(\n",
    "        \"Chromosomes in {} must be subset of \".format(expected_path) +\n",
    "        \"chromosomes in cooler {}\".format(cool_path))\n",
    "# check number of bins\n",
    "# compute # of bins by comparing matching indexes\n",
    "get_exp_bins = lambda df, ref_chroms: (\n",
    "    df.index.get_level_values(\"chrom\").isin(ref_chroms).sum())\n",
    "expected_bins = get_exp_bins(expected, expected_chroms)\n",
    "cool_bins = clr.bins()[:][\"chrom\"].isin(expected_chroms).sum()\n",
    "if not (expected_bins == cool_bins):\n",
    "    raise ValueError(\n",
    "        \"Number of bins is not matching: \",\n",
    "        \"{} in {}, and {} in {} for chromosomes {}\".format(\n",
    "            expected_bins,\n",
    "            expected_path,\n",
    "            cool_bins,\n",
    "            cool_path,\n",
    "            expected_chroms))\n",
    "if verbose:\n",
    "    print(\"{} and {} passed cross-compatibility checks.\".format(\n",
    "        cool_path, expected_path))"
   ]
  },
  {
   "cell_type": "markdown",
   "metadata": {},
   "source": [
    "### prepare some other parameters "
   ]
  },
  {
   "cell_type": "code",
   "execution_count": 13,
   "metadata": {},
   "outputs": [
    {
     "name": "stdout",
     "output_type": "stream",
     "text": [
      "we are dealing with the data binned at 10000\n"
     ]
    }
   ],
   "source": [
    "# Prepare some parameters.\n",
    "binsize = clr.binsize\n",
    "loci_separation_bins = int(max_loci_separation / binsize)\n",
    "tile_size_bins = int(tile_size / binsize)\n",
    "balance_factor = 1.0  #clr._load_attrs(\"bins/weight\")[\"scale\"]\n",
    "\n",
    "print(\"we are dealing with the data binned at {}\".format(binsize))\n",
    "\n",
    "# clustering would deal with bases-units for now, so supress this for now\n",
    "# clustering_radius_bins = int(dots_clustering_radius/binsize)\n",
    "\n",
    "# pre-defined kernel types that are going to be used in the analysis\n",
    "ktypes = ['donut', 'vertical', 'horizontal', 'lowleft']"
   ]
  },
  {
   "cell_type": "markdown",
   "metadata": {},
   "source": [
    "### choosing w and p for the kernel sizes\n",
    "we should replace it or hide it with the function that \"recommends\" `w` and `p` based on the `binsize`\n",
    "but also we should provide a CLI interface for changing those at will ...\n",
    "\n",
    "or should we \"read\" kernel-footprints from a separate file ... for ultimate customizability ?!"
   ]
  },
  {
   "cell_type": "code",
   "execution_count": 14,
   "metadata": {},
   "outputs": [
    {
     "name": "stdout",
     "output_type": "stream",
     "text": [
      "Kernel parameters w=5 p=2\n"
     ]
    }
   ],
   "source": [
    "w,p = dotfinder.recommend_kernel_params(binsize)\n",
    "print(\"Kernel parameters w={} p={}\".format(w,p))"
   ]
  },
  {
   "cell_type": "code",
   "execution_count": 15,
   "metadata": {},
   "outputs": [],
   "source": [
    "kernels = {k: dotfinder.get_kernel(w, p, k) for k in ktypes}\n",
    "\n",
    "# list of tile coordinate ranges\n",
    "tiles = list(\n",
    "    dotfinder.heatmap_tiles_generator_diag(\n",
    "        clr,\n",
    "        expected_chroms,\n",
    "        w,\n",
    "        tile_size_bins,\n",
    "        loci_separation_bins\n",
    "    )\n",
    ")   "
   ]
  },
  {
   "cell_type": "code",
   "execution_count": 16,
   "metadata": {},
   "outputs": [
    {
     "data": {
      "text/plain": [
       "[Text(1, 0, 'Excluded from calculation'),\n",
       " Text(1, 0, 'Included in calculations')]"
      ]
     },
     "execution_count": 16,
     "metadata": {},
     "output_type": "execute_result"
    },
    {
     "data": {
      "image/png": "[encoded data removed]",
      "text/plain": [
       "<Figure size 432x288 with 2 Axes>"
      ]
     },
     "metadata": {
      "needs_background": "light"
     },
     "output_type": "display_data"
    }
   ],
   "source": [
    "# it is important to demonstrate filters here \n",
    "# consider moving plotting code elsewhere or simplify it significantly ...\n",
    "# split cell above and demonstrate kernels - it's nice:\n",
    "\n",
    "ktype='donut'\n",
    "kernel= kernels[ktype]\n",
    "y,x = np.ogrid[-w:w+1, -w:w+1]\n",
    "\n",
    "extent = (0-0.5,\n",
    "          x.size-0.5,\n",
    "          0-0.5,\n",
    "          y.size-0.5)\n",
    "########################\n",
    "plt.clf()\n",
    "# axes setup\n",
    "ax = plt.gca()\n",
    "# discrete colormap with 2 colors ...\n",
    "cmap = colors.ListedColormap([plt.cm.viridis(0),\n",
    "                              plt.cm.viridis(1.0)])\n",
    "# kernel:\n",
    "imk = ax.imshow(kernel,\n",
    "                alpha=0.7,\n",
    "                cmap=cmap,\n",
    "                extent=extent,\n",
    "                interpolation='nearest')\n",
    "ax.set_xticks([])\n",
    "ax.set_yticks([])\n",
    "ax.set_xticklabels('',visible=False)\n",
    "ax.set_yticklabels('',visible=False)\n",
    "ax.set_title(\"{} kernel\".format(ktype),fontsize=16)\n",
    "\n",
    "# add checkerboard to depict pixels:\n",
    "checkerboard = np.add.outer(range(x.size),\n",
    "                            range(y.size)) % 2\n",
    "ax.imshow(checkerboard,\n",
    "        cmap=plt.cm.gray,\n",
    "        interpolation='nearest',\n",
    "        extent=extent,\n",
    "        alpha=0.3)\n",
    "#####################\n",
    "# colorbar and that's it:\n",
    "cb = plt.colorbar(imk)\n",
    "cb.ax.get_yaxis().set_major_locator(ticker.MaxNLocator(1))\n",
    "cb.ax.set_yticklabels(['Excluded from calculation','Included in calculations'])"
   ]
  },
  {
   "cell_type": "markdown",
   "metadata": {},
   "source": [
    "### Getting to the calculations of locally-adjusted expected\n",
    "\n",
    " - for demonstration and debugging purposes we are going to dump the dataframe with locally adjusted expected right in place (i.e. in memory).\n",
    " - This might be also ok for smaller genomes and potentially for small subsets of large genomes.\n",
    " - This is not recommended whatsoever for genome-wide dot-calling.\n",
    "\n",
    "A side note, we've tried to store all of the values in a separate file,\n",
    "but practice shows that for large genomes even parquet/hdf5 are not fast enough.\n",
    "Thus using a **2-pass** strategy seems to be the best option indeed.\n",
    "\n",
    "**2-pass**: calculate locally-adjusted expected for each pixel and use this value *immediately* to build a hitogram with predefined bins, then recalculate locally-adjusted expected values and again use them *in place* to select significantly enriched pixels.\n",
    "\n",
    "\n",
    " - an example on how to store locally adjusted expected in a temporary file:\n",
    "```python\n",
    "import tempfile\n",
    "tmp_scores = tempfile.NamedTemporaryFile(\n",
    "    suffix='.parquet',\n",
    "    delete= False,\n",
    "    dir='.')\n",
    "```\n",
    " - now calculate locally adjusted expected:\n",
    "```python\n",
    "loc_adj_exp = dotfinder.scoring_step(clr,\n",
    "                    expected,\n",
    "                    expected_name,\n",
    "                    \"weight\",\n",
    "                    tiles,\n",
    "                    kernels,\n",
    "                    max_nans_tolerated,\n",
    "                    loci_separation_bins,\n",
    "                    tmp_scores,\n",
    "                    nproc,\n",
    "                    score_dump_mode,\n",
    "                    verbose)\n",
    "```\n",
    " - histogramming using temporary input:\n",
    "```python\n",
    "gw_hist = dotfinder.histogramming_step(tmp_scores,\n",
    "                                    score_dump_mode,\n",
    "                                    kernels,\n",
    "                                    ledges,\n",
    "                                    output_path=None,\n",
    "                                    nproc=1,\n",
    "                                    verbose=False)\n",
    "```"
   ]
  },
  {
   "cell_type": "code",
   "execution_count": 17,
   "metadata": {},
   "outputs": [
    {
     "name": "stdout",
     "output_type": "stream",
     "text": [
      "Preparing to convolve 49 tiles:\n",
      "creating a Pool of 8 workers to tackle 49 tiles\n",
      "returning local copy of the dataframe ...\n"
     ]
    }
   ],
   "source": [
    "# locally adjusted returned in place for just 1 chromosome:\n",
    "la_exp = dotfinder.scoring_step(clr,\n",
    "                    expected,\n",
    "                    expected_name,\n",
    "                    balancing_weight_name,\n",
    "                    tiles,\n",
    "                    kernels,\n",
    "                    1,\n",
    "                    loci_separation_bins,\n",
    "                    None,\n",
    "                    nproc,\n",
    "                    \"local\",\n",
    "                    verbose)"
   ]
  },
  {
   "cell_type": "markdown",
   "metadata": {},
   "source": [
    "### that is how locally adjusted expected dataframe looks like:\n",
    "\n",
    "bin1_id|bin2_id|count|la_exp.donut.value|la_exp.vertical.value|la_exp.horizontal.value|la_exp.lowleft.value\n",
    "---|---|---|---|---|---|---\n",
    "76|87|20|16.343724585366036|19.112339277607475|14.789222300465001|17.55971648783403\n",
    "76|88|29|21.109446293886823|23.76004284738352|19.119195822013385|23.30209962326733\n",
    "76|89|15|17.254427190306977|18.545853810657224|14.695003640984938|19.784933947834944\n",
    "76|90|21|14.277047600786759|14.642767228999286|12.928217571836717|17.27371365389384\n",
    "76|91|13|11.22588212884422|11.279966641429564|10.064704945467405|14.514049136987758\n",
    "\n",
    " - here we use `cooler`-based `bin1/2_id` instead of actual genomic coordinates for compactness and performance reasons.\n",
    " - Observed is recorded in the `count` columns, again as in the parent `cooler`-file.\n",
    " - observer and all types of expected are expressed in the raw units in order to apply Poisson statistics to the data\n",
    "\n",
    "\n",
    "### Now let's load in, some known called/annotated dots to see where they end up on the obs/exp scatter-plot"
   ]
  },
  {
   "cell_type": "code",
   "execution_count": 140,
   "metadata": {},
   "outputs": [],
   "source": [
    "# let us read in some of the known dots to display stronger ones on the obs/exp scatter plot:\n",
    "raodots = pd.read_csv(RAOLOOPS,sep='\\t')\n",
    "# beware of the UCSC/NCBI chromosome naming conventions `X` vs `chrX` ...\n",
    "raodots_chr1 = raodots[raodots['chr1']=='1']\n",
    "\n",
    "# do we need a notion of strength here ?\n",
    "# #let's quickly define some measure of strengths for the dots:\n",
    "# raodots_chr1['strength'] = raodots_chr1['o']/raodots_chr1['e_donut']\n",
    "# # now sort and select only the strongest (according to this measure):\n",
    "# raodots_chr1_strong = raodots_chr1.sort_values(by=['o','strength'],ascending=False)\n",
    "\n",
    "# let's convert genomic coordinates into `cooler`-based bin_id-s:\n",
    "bin1_ids = (raodots_chr1['x1']/binsize).astype('int')\n",
    "bin2_ids = (raodots_chr1['y1']/binsize).astype('int')\n",
    "# beware Rao et al, use x1,x2 for start1,end1 and y1,y2 for start2,end2\n",
    "\n",
    "# now let's look up these called/annotated dots in our pre-calculated la_exp dataframe:\n",
    "rao_dots_idxs = list(zip(bin1_ids,bin2_ids))\n",
    "la_exp_indexed = la_exp.set_index(['bin1_id','bin2_id'])\n",
    "\n",
    "# these are the rao-dots that we have caculated locally adjusted expected for:\n",
    "intersect_raodots = la_exp_indexed[la_exp_indexed.index.isin(rao_dots_idxs)]\n",
    "# we don't have for every rao-dot since we don't get close enough to diagonal and\n",
    "# potentially treat NaNs differently."
   ]
  },
  {
   "cell_type": "markdown",
   "metadata": {},
   "source": [
    "### obs/exp scatter\n",
    "\n",
    " - let's plot a scatter of obs/exp for a subsample of surveyed pixels\n",
    " - highlight called rao-dots on this scatter plot\n",
    " - we need subsampling because there are a LOT of pixels"
   ]
  },
  {
   "cell_type": "code",
   "execution_count": 130,
   "metadata": {
    "scrolled": false
   },
   "outputs": [
    {
     "data": {
      "text/plain": [
       "<matplotlib.colorbar.Colorbar at 0x7f3b12317198>"
      ]
     },
     "execution_count": 130,
     "metadata": {},
     "output_type": "execute_result"
    },
    {
     "data": {
      "image/png": "[encoded data removed]",
      "text/plain": [
       "<Figure size 432x288 with 2 Axes>"
      ]
     },
     "metadata": {
      "needs_background": "light"
     },
     "output_type": "display_data"
    }
   ],
   "source": [
    "xlabel = 'la_exp.donut.value'\n",
    "ylabel = 'count'\n",
    "\n",
    "# we might consider \"downsampling\" la_exp dataframe in order to make obs/exp scatter plot less busy:\n",
    "sub_la_exp = la_exp.sample(frac=0.7)\n",
    "\n",
    "sct = plt.scatter(sub_la_exp[xlabel],\n",
    "                  sub_la_exp[ylabel],\n",
    "                  # color dots on the scatter by their genomic separation\n",
    "                  c=sub_la_exp['bin2_id']-sub_la_exp['bin1_id'],\n",
    "                  vmin=0,\n",
    "                  vmax = 100,\n",
    "                  cmap=\"YlOrRd_r\")\n",
    "\n",
    "\n",
    "\n",
    "plt.scatter(yyy[xlabel],yyy[ylabel], s=80, facecolors='none', edgecolors='b')\n",
    "# plt.scatter(eeee[xlabel],eeee[ylabel], s=80, facecolors='none', edgecolors='y')\n",
    "\n",
    "\n",
    "\n",
    "# plt.vlines(ledges[1:-15],ymin=0.5,ymax=900,color='red')\n",
    "\n",
    "ax = plt.gca()\n",
    "fig = plt.gcf()\n",
    "\n",
    "ax.set_xscale('log')\n",
    "ax.set_yscale('log')\n",
    "\n",
    "ax.set_xlim(0.5,400)\n",
    "ax.set_ylim(0.5,900)\n",
    "\n",
    "ax.set_ylabel(\"count\")\n",
    "ax.set_xlabel(\"la_exp value\")\n",
    "\n",
    "fig.colorbar(scat)"
   ]
  },
  {
   "cell_type": "code",
   "execution_count": 98,
   "metadata": {},
   "outputs": [
    {
     "data": {
      "text/plain": [
       "1.2599210498948732"
      ]
     },
     "execution_count": 98,
     "metadata": {},
     "output_type": "execute_result"
    }
   ],
   "source": [
    "2**0.3333333333333333333333333333333333333333333333333333333333333"
   ]
  },
  {
   "cell_type": "code",
   "execution_count": 67,
   "metadata": {
    "scrolled": true
   },
   "outputs": [
    {
     "data": {
      "text/html": [
       "<div>\n",
       "<style scoped>\n",
       "    .dataframe tbody tr th:only-of-type {\n",
       "        vertical-align: middle;\n",
       "    }\n",
       "\n",
       "    .dataframe tbody tr th {\n",
       "        vertical-align: top;\n",
       "    }\n",
       "\n",
       "    .dataframe thead th {\n",
       "        text-align: right;\n",
       "    }\n",
       "</style>\n",
       "<table border=\"1\" class=\"dataframe\">\n",
       "  <thead>\n",
       "    <tr style=\"text-align: right;\">\n",
       "      <th></th>\n",
       "      <th>bin1_id</th>\n",
       "      <th>bin2_id</th>\n",
       "      <th>count</th>\n",
       "      <th>la_exp.donut.value</th>\n",
       "      <th>la_exp.vertical.value</th>\n",
       "      <th>la_exp.horizontal.value</th>\n",
       "      <th>la_exp.lowleft.value</th>\n",
       "    </tr>\n",
       "  </thead>\n",
       "  <tbody>\n",
       "    <tr>\n",
       "      <th>45527</th>\n",
       "      <td>2551</td>\n",
       "      <td>2565</td>\n",
       "      <td>1</td>\n",
       "      <td>2.943875</td>\n",
       "      <td>3.369522</td>\n",
       "      <td>2.539612</td>\n",
       "      <td>2.749783</td>\n",
       "    </tr>\n",
       "    <tr>\n",
       "      <th>45615</th>\n",
       "      <td>2552</td>\n",
       "      <td>2565</td>\n",
       "      <td>4</td>\n",
       "      <td>4.808669</td>\n",
       "      <td>6.340658</td>\n",
       "      <td>4.130355</td>\n",
       "      <td>4.223058</td>\n",
       "    </tr>\n",
       "    <tr>\n",
       "      <th>45703</th>\n",
       "      <td>2553</td>\n",
       "      <td>2565</td>\n",
       "      <td>3</td>\n",
       "      <td>4.977163</td>\n",
       "      <td>6.820646</td>\n",
       "      <td>4.021224</td>\n",
       "      <td>4.243577</td>\n",
       "    </tr>\n",
       "    <tr>\n",
       "      <th>46236</th>\n",
       "      <td>2559</td>\n",
       "      <td>2570</td>\n",
       "      <td>6</td>\n",
       "      <td>4.140280</td>\n",
       "      <td>2.644104</td>\n",
       "      <td>5.273157</td>\n",
       "      <td>3.869909</td>\n",
       "    </tr>\n",
       "    <tr>\n",
       "      <th>46238</th>\n",
       "      <td>2559</td>\n",
       "      <td>2572</td>\n",
       "      <td>3</td>\n",
       "      <td>3.191047</td>\n",
       "      <td>2.262594</td>\n",
       "      <td>3.784151</td>\n",
       "      <td>2.541656</td>\n",
       "    </tr>\n",
       "    <tr>\n",
       "      <th>46239</th>\n",
       "      <td>2559</td>\n",
       "      <td>2573</td>\n",
       "      <td>0</td>\n",
       "      <td>3.295056</td>\n",
       "      <td>2.360885</td>\n",
       "      <td>3.822843</td>\n",
       "      <td>2.604651</td>\n",
       "    </tr>\n",
       "    <tr>\n",
       "      <th>46326</th>\n",
       "      <td>2560</td>\n",
       "      <td>2572</td>\n",
       "      <td>3</td>\n",
       "      <td>3.528551</td>\n",
       "      <td>2.261038</td>\n",
       "      <td>3.835793</td>\n",
       "      <td>2.749389</td>\n",
       "    </tr>\n",
       "    <tr>\n",
       "      <th>46327</th>\n",
       "      <td>2560</td>\n",
       "      <td>2573</td>\n",
       "      <td>0</td>\n",
       "      <td>3.692040</td>\n",
       "      <td>2.392316</td>\n",
       "      <td>4.023391</td>\n",
       "      <td>2.799043</td>\n",
       "    </tr>\n",
       "    <tr>\n",
       "      <th>46328</th>\n",
       "      <td>2560</td>\n",
       "      <td>2574</td>\n",
       "      <td>7</td>\n",
       "      <td>3.171775</td>\n",
       "      <td>2.801629</td>\n",
       "      <td>3.776033</td>\n",
       "      <td>2.344038</td>\n",
       "    </tr>\n",
       "    <tr>\n",
       "      <th>46503</th>\n",
       "      <td>2562</td>\n",
       "      <td>2573</td>\n",
       "      <td>5</td>\n",
       "      <td>4.353290</td>\n",
       "      <td>3.743578</td>\n",
       "      <td>3.789606</td>\n",
       "      <td>3.972032</td>\n",
       "    </tr>\n",
       "    <tr>\n",
       "      <th>46504</th>\n",
       "      <td>2562</td>\n",
       "      <td>2574</td>\n",
       "      <td>2</td>\n",
       "      <td>3.597691</td>\n",
       "      <td>3.475268</td>\n",
       "      <td>3.268091</td>\n",
       "      <td>3.027295</td>\n",
       "    </tr>\n",
       "    <tr>\n",
       "      <th>46592</th>\n",
       "      <td>2563</td>\n",
       "      <td>2574</td>\n",
       "      <td>4</td>\n",
       "      <td>4.724735</td>\n",
       "      <td>4.661437</td>\n",
       "      <td>3.409826</td>\n",
       "      <td>4.485879</td>\n",
       "    </tr>\n",
       "    <tr>\n",
       "      <th>46773</th>\n",
       "      <td>2565</td>\n",
       "      <td>2579</td>\n",
       "      <td>6</td>\n",
       "      <td>4.768158</td>\n",
       "      <td>4.793679</td>\n",
       "      <td>4.365700</td>\n",
       "      <td>4.043452</td>\n",
       "    </tr>\n",
       "    <tr>\n",
       "      <th>804</th>\n",
       "      <td>4009</td>\n",
       "      <td>4023</td>\n",
       "      <td>2</td>\n",
       "      <td>4.543356</td>\n",
       "      <td>4.447576</td>\n",
       "      <td>4.314169</td>\n",
       "      <td>4.470755</td>\n",
       "    </tr>\n",
       "    <tr>\n",
       "      <th>980</th>\n",
       "      <td>4011</td>\n",
       "      <td>4023</td>\n",
       "      <td>4</td>\n",
       "      <td>4.311620</td>\n",
       "      <td>4.244756</td>\n",
       "      <td>4.111568</td>\n",
       "      <td>4.076849</td>\n",
       "    </tr>\n",
       "    <tr>\n",
       "      <th>2048</th>\n",
       "      <td>4023</td>\n",
       "      <td>4035</td>\n",
       "      <td>2</td>\n",
       "      <td>4.454423</td>\n",
       "      <td>5.420055</td>\n",
       "      <td>3.445220</td>\n",
       "      <td>4.243512</td>\n",
       "    </tr>\n",
       "    <tr>\n",
       "      <th>2049</th>\n",
       "      <td>4023</td>\n",
       "      <td>4036</td>\n",
       "      <td>4</td>\n",
       "      <td>4.094051</td>\n",
       "      <td>5.290508</td>\n",
       "      <td>3.035442</td>\n",
       "      <td>4.150209</td>\n",
       "    </tr>\n",
       "    <tr>\n",
       "      <th>2050</th>\n",
       "      <td>4023</td>\n",
       "      <td>4037</td>\n",
       "      <td>2</td>\n",
       "      <td>4.015759</td>\n",
       "      <td>5.047666</td>\n",
       "      <td>2.900248</td>\n",
       "      <td>4.307997</td>\n",
       "    </tr>\n",
       "    <tr>\n",
       "      <th>64083</th>\n",
       "      <td>4720</td>\n",
       "      <td>4734</td>\n",
       "      <td>3</td>\n",
       "      <td>3.113637</td>\n",
       "      <td>3.718797</td>\n",
       "      <td>3.454340</td>\n",
       "      <td>3.803006</td>\n",
       "    </tr>\n",
       "    <tr>\n",
       "      <th>64171</th>\n",
       "      <td>4721</td>\n",
       "      <td>4734</td>\n",
       "      <td>2</td>\n",
       "      <td>3.287291</td>\n",
       "      <td>3.158721</td>\n",
       "      <td>4.131236</td>\n",
       "      <td>3.923242</td>\n",
       "    </tr>\n",
       "    <tr>\n",
       "      <th>64172</th>\n",
       "      <td>4721</td>\n",
       "      <td>4735</td>\n",
       "      <td>1</td>\n",
       "      <td>3.173355</td>\n",
       "      <td>2.823152</td>\n",
       "      <td>3.870255</td>\n",
       "      <td>3.709589</td>\n",
       "    </tr>\n",
       "    <tr>\n",
       "      <th>64259</th>\n",
       "      <td>4722</td>\n",
       "      <td>4734</td>\n",
       "      <td>4</td>\n",
       "      <td>2.406018</td>\n",
       "      <td>2.218510</td>\n",
       "      <td>2.768358</td>\n",
       "      <td>2.740342</td>\n",
       "    </tr>\n",
       "    <tr>\n",
       "      <th>64260</th>\n",
       "      <td>4722</td>\n",
       "      <td>4735</td>\n",
       "      <td>3</td>\n",
       "      <td>2.326539</td>\n",
       "      <td>1.876688</td>\n",
       "      <td>2.677009</td>\n",
       "      <td>2.606179</td>\n",
       "    </tr>\n",
       "    <tr>\n",
       "      <th>64347</th>\n",
       "      <td>4723</td>\n",
       "      <td>4734</td>\n",
       "      <td>5</td>\n",
       "      <td>3.328405</td>\n",
       "      <td>2.929543</td>\n",
       "      <td>3.745444</td>\n",
       "      <td>3.527099</td>\n",
       "    </tr>\n",
       "    <tr>\n",
       "      <th>64348</th>\n",
       "      <td>4723</td>\n",
       "      <td>4735</td>\n",
       "      <td>9</td>\n",
       "      <td>3.291007</td>\n",
       "      <td>2.488538</td>\n",
       "      <td>3.653379</td>\n",
       "      <td>3.420079</td>\n",
       "    </tr>\n",
       "    <tr>\n",
       "      <th>64436</th>\n",
       "      <td>4724</td>\n",
       "      <td>4735</td>\n",
       "      <td>3</td>\n",
       "      <td>2.497920</td>\n",
       "      <td>1.956396</td>\n",
       "      <td>2.407614</td>\n",
       "      <td>2.646544</td>\n",
       "    </tr>\n",
       "    <tr>\n",
       "      <th>65326</th>\n",
       "      <td>4734</td>\n",
       "      <td>4745</td>\n",
       "      <td>2</td>\n",
       "      <td>4.190319</td>\n",
       "      <td>4.420008</td>\n",
       "      <td>4.313603</td>\n",
       "      <td>3.897382</td>\n",
       "    </tr>\n",
       "    <tr>\n",
       "      <th>65328</th>\n",
       "      <td>4734</td>\n",
       "      <td>4747</td>\n",
       "      <td>3</td>\n",
       "      <td>2.211318</td>\n",
       "      <td>2.298035</td>\n",
       "      <td>2.395894</td>\n",
       "      <td>2.147404</td>\n",
       "    </tr>\n",
       "    <tr>\n",
       "      <th>65329</th>\n",
       "      <td>4734</td>\n",
       "      <td>4748</td>\n",
       "      <td>4</td>\n",
       "      <td>3.918264</td>\n",
       "      <td>4.026113</td>\n",
       "      <td>4.170133</td>\n",
       "      <td>3.688275</td>\n",
       "    </tr>\n",
       "    <tr>\n",
       "      <th>65416</th>\n",
       "      <td>4735</td>\n",
       "      <td>4747</td>\n",
       "      <td>4</td>\n",
       "      <td>2.367439</td>\n",
       "      <td>2.427257</td>\n",
       "      <td>2.641822</td>\n",
       "      <td>2.152733</td>\n",
       "    </tr>\n",
       "    <tr>\n",
       "      <th>...</th>\n",
       "      <td>...</td>\n",
       "      <td>...</td>\n",
       "      <td>...</td>\n",
       "      <td>...</td>\n",
       "      <td>...</td>\n",
       "      <td>...</td>\n",
       "      <td>...</td>\n",
       "    </tr>\n",
       "    <tr>\n",
       "      <th>28305</th>\n",
       "      <td>24318</td>\n",
       "      <td>24332</td>\n",
       "      <td>1</td>\n",
       "      <td>0.481495</td>\n",
       "      <td>0.483970</td>\n",
       "      <td>0.463026</td>\n",
       "      <td>0.671160</td>\n",
       "    </tr>\n",
       "    <tr>\n",
       "      <th>28391</th>\n",
       "      <td>24319</td>\n",
       "      <td>24330</td>\n",
       "      <td>0</td>\n",
       "      <td>0.199943</td>\n",
       "      <td>0.322696</td>\n",
       "      <td>0.165983</td>\n",
       "      <td>0.194306</td>\n",
       "    </tr>\n",
       "    <tr>\n",
       "      <th>28392</th>\n",
       "      <td>24319</td>\n",
       "      <td>24331</td>\n",
       "      <td>0</td>\n",
       "      <td>0.235700</td>\n",
       "      <td>0.284758</td>\n",
       "      <td>0.406652</td>\n",
       "      <td>0.256279</td>\n",
       "    </tr>\n",
       "    <tr>\n",
       "      <th>28393</th>\n",
       "      <td>24319</td>\n",
       "      <td>24332</td>\n",
       "      <td>0</td>\n",
       "      <td>0.195504</td>\n",
       "      <td>0.187188</td>\n",
       "      <td>0.328922</td>\n",
       "      <td>0.277225</td>\n",
       "    </tr>\n",
       "    <tr>\n",
       "      <th>28394</th>\n",
       "      <td>24319</td>\n",
       "      <td>24333</td>\n",
       "      <td>0</td>\n",
       "      <td>0.186749</td>\n",
       "      <td>0.124604</td>\n",
       "      <td>0.309886</td>\n",
       "      <td>0.281714</td>\n",
       "    </tr>\n",
       "    <tr>\n",
       "      <th>28480</th>\n",
       "      <td>24320</td>\n",
       "      <td>24331</td>\n",
       "      <td>0</td>\n",
       "      <td>0.209685</td>\n",
       "      <td>0.261337</td>\n",
       "      <td>0.362578</td>\n",
       "      <td>0.159748</td>\n",
       "    </tr>\n",
       "    <tr>\n",
       "      <th>28481</th>\n",
       "      <td>24320</td>\n",
       "      <td>24332</td>\n",
       "      <td>1</td>\n",
       "      <td>0.173583</td>\n",
       "      <td>0.192031</td>\n",
       "      <td>0.322213</td>\n",
       "      <td>0.184054</td>\n",
       "    </tr>\n",
       "    <tr>\n",
       "      <th>28482</th>\n",
       "      <td>24320</td>\n",
       "      <td>24333</td>\n",
       "      <td>0</td>\n",
       "      <td>0.155004</td>\n",
       "      <td>0.090293</td>\n",
       "      <td>0.292345</td>\n",
       "      <td>0.169176</td>\n",
       "    </tr>\n",
       "    <tr>\n",
       "      <th>28483</th>\n",
       "      <td>24320</td>\n",
       "      <td>24334</td>\n",
       "      <td>0</td>\n",
       "      <td>0.125577</td>\n",
       "      <td>0.107698</td>\n",
       "      <td>0.157562</td>\n",
       "      <td>0.152450</td>\n",
       "    </tr>\n",
       "    <tr>\n",
       "      <th>28569</th>\n",
       "      <td>24321</td>\n",
       "      <td>24332</td>\n",
       "      <td>0</td>\n",
       "      <td>0.387420</td>\n",
       "      <td>0.283023</td>\n",
       "      <td>0.523329</td>\n",
       "      <td>0.312621</td>\n",
       "    </tr>\n",
       "    <tr>\n",
       "      <th>28570</th>\n",
       "      <td>24321</td>\n",
       "      <td>24333</td>\n",
       "      <td>0</td>\n",
       "      <td>0.339254</td>\n",
       "      <td>0.234367</td>\n",
       "      <td>0.456951</td>\n",
       "      <td>0.270146</td>\n",
       "    </tr>\n",
       "    <tr>\n",
       "      <th>28571</th>\n",
       "      <td>24321</td>\n",
       "      <td>24334</td>\n",
       "      <td>1</td>\n",
       "      <td>0.275919</td>\n",
       "      <td>0.210574</td>\n",
       "      <td>0.341147</td>\n",
       "      <td>0.312869</td>\n",
       "    </tr>\n",
       "    <tr>\n",
       "      <th>28572</th>\n",
       "      <td>24321</td>\n",
       "      <td>24335</td>\n",
       "      <td>0</td>\n",
       "      <td>0.375608</td>\n",
       "      <td>0.423005</td>\n",
       "      <td>0.435818</td>\n",
       "      <td>0.415337</td>\n",
       "    </tr>\n",
       "    <tr>\n",
       "      <th>28658</th>\n",
       "      <td>24322</td>\n",
       "      <td>24333</td>\n",
       "      <td>0</td>\n",
       "      <td>0.559765</td>\n",
       "      <td>0.416090</td>\n",
       "      <td>0.432736</td>\n",
       "      <td>0.487651</td>\n",
       "    </tr>\n",
       "    <tr>\n",
       "      <th>28659</th>\n",
       "      <td>24322</td>\n",
       "      <td>24334</td>\n",
       "      <td>1</td>\n",
       "      <td>0.492163</td>\n",
       "      <td>0.363867</td>\n",
       "      <td>0.481314</td>\n",
       "      <td>0.537668</td>\n",
       "    </tr>\n",
       "    <tr>\n",
       "      <th>28660</th>\n",
       "      <td>24322</td>\n",
       "      <td>24335</td>\n",
       "      <td>1</td>\n",
       "      <td>0.612081</td>\n",
       "      <td>0.764367</td>\n",
       "      <td>0.662178</td>\n",
       "      <td>0.623300</td>\n",
       "    </tr>\n",
       "    <tr>\n",
       "      <th>28661</th>\n",
       "      <td>24322</td>\n",
       "      <td>24336</td>\n",
       "      <td>0</td>\n",
       "      <td>0.523355</td>\n",
       "      <td>0.612236</td>\n",
       "      <td>0.572953</td>\n",
       "      <td>0.587157</td>\n",
       "    </tr>\n",
       "    <tr>\n",
       "      <th>28747</th>\n",
       "      <td>24323</td>\n",
       "      <td>24334</td>\n",
       "      <td>0</td>\n",
       "      <td>0.240436</td>\n",
       "      <td>0.189784</td>\n",
       "      <td>0.286699</td>\n",
       "      <td>0.253029</td>\n",
       "    </tr>\n",
       "    <tr>\n",
       "      <th>28748</th>\n",
       "      <td>24323</td>\n",
       "      <td>24335</td>\n",
       "      <td>1</td>\n",
       "      <td>0.303889</td>\n",
       "      <td>0.324580</td>\n",
       "      <td>0.348275</td>\n",
       "      <td>0.314315</td>\n",
       "    </tr>\n",
       "    <tr>\n",
       "      <th>28749</th>\n",
       "      <td>24323</td>\n",
       "      <td>24336</td>\n",
       "      <td>1</td>\n",
       "      <td>0.263372</td>\n",
       "      <td>0.244922</td>\n",
       "      <td>0.252904</td>\n",
       "      <td>0.285490</td>\n",
       "    </tr>\n",
       "    <tr>\n",
       "      <th>28750</th>\n",
       "      <td>24323</td>\n",
       "      <td>24337</td>\n",
       "      <td>0</td>\n",
       "      <td>0.402290</td>\n",
       "      <td>0.385541</td>\n",
       "      <td>0.282168</td>\n",
       "      <td>0.358838</td>\n",
       "    </tr>\n",
       "    <tr>\n",
       "      <th>28836</th>\n",
       "      <td>24324</td>\n",
       "      <td>24335</td>\n",
       "      <td>0</td>\n",
       "      <td>0.636008</td>\n",
       "      <td>0.633967</td>\n",
       "      <td>0.673954</td>\n",
       "      <td>0.622197</td>\n",
       "    </tr>\n",
       "    <tr>\n",
       "      <th>28837</th>\n",
       "      <td>24324</td>\n",
       "      <td>24336</td>\n",
       "      <td>0</td>\n",
       "      <td>0.586602</td>\n",
       "      <td>0.508592</td>\n",
       "      <td>0.545257</td>\n",
       "      <td>0.630282</td>\n",
       "    </tr>\n",
       "    <tr>\n",
       "      <th>28838</th>\n",
       "      <td>24324</td>\n",
       "      <td>24337</td>\n",
       "      <td>0</td>\n",
       "      <td>0.784859</td>\n",
       "      <td>0.675232</td>\n",
       "      <td>0.392358</td>\n",
       "      <td>0.797384</td>\n",
       "    </tr>\n",
       "    <tr>\n",
       "      <th>28839</th>\n",
       "      <td>24324</td>\n",
       "      <td>24338</td>\n",
       "      <td>1</td>\n",
       "      <td>1.850467</td>\n",
       "      <td>1.511424</td>\n",
       "      <td>1.226823</td>\n",
       "      <td>1.766548</td>\n",
       "    </tr>\n",
       "    <tr>\n",
       "      <th>28925</th>\n",
       "      <td>24325</td>\n",
       "      <td>24336</td>\n",
       "      <td>2</td>\n",
       "      <td>0.906662</td>\n",
       "      <td>0.623361</td>\n",
       "      <td>0.667671</td>\n",
       "      <td>0.993947</td>\n",
       "    </tr>\n",
       "    <tr>\n",
       "      <th>28926</th>\n",
       "      <td>24325</td>\n",
       "      <td>24337</td>\n",
       "      <td>0</td>\n",
       "      <td>1.125032</td>\n",
       "      <td>0.736182</td>\n",
       "      <td>0.802125</td>\n",
       "      <td>1.220882</td>\n",
       "    </tr>\n",
       "    <tr>\n",
       "      <th>28927</th>\n",
       "      <td>24325</td>\n",
       "      <td>24338</td>\n",
       "      <td>2</td>\n",
       "      <td>2.589147</td>\n",
       "      <td>2.157651</td>\n",
       "      <td>1.989026</td>\n",
       "      <td>2.826989</td>\n",
       "    </tr>\n",
       "    <tr>\n",
       "      <th>28928</th>\n",
       "      <td>24325</td>\n",
       "      <td>24339</td>\n",
       "      <td>2</td>\n",
       "      <td>2.619516</td>\n",
       "      <td>2.149216</td>\n",
       "      <td>2.482055</td>\n",
       "      <td>2.672861</td>\n",
       "    </tr>\n",
       "    <tr>\n",
       "      <th>29014</th>\n",
       "      <td>24326</td>\n",
       "      <td>24337</td>\n",
       "      <td>6</td>\n",
       "      <td>4.571711</td>\n",
       "      <td>4.277528</td>\n",
       "      <td>4.072085</td>\n",
       "      <td>4.764073</td>\n",
       "    </tr>\n",
       "  </tbody>\n",
       "</table>\n",
       "<p>579 rows × 7 columns</p>\n",
       "</div>"
      ],
      "text/plain": [
       "       bin1_id  bin2_id  count  la_exp.donut.value  la_exp.vertical.value  \\\n",
       "45527     2551     2565      1            2.943875               3.369522   \n",
       "45615     2552     2565      4            4.808669               6.340658   \n",
       "45703     2553     2565      3            4.977163               6.820646   \n",
       "46236     2559     2570      6            4.140280               2.644104   \n",
       "46238     2559     2572      3            3.191047               2.262594   \n",
       "46239     2559     2573      0            3.295056               2.360885   \n",
       "46326     2560     2572      3            3.528551               2.261038   \n",
       "46327     2560     2573      0            3.692040               2.392316   \n",
       "46328     2560     2574      7            3.171775               2.801629   \n",
       "46503     2562     2573      5            4.353290               3.743578   \n",
       "46504     2562     2574      2            3.597691               3.475268   \n",
       "46592     2563     2574      4            4.724735               4.661437   \n",
       "46773     2565     2579      6            4.768158               4.793679   \n",
       "804       4009     4023      2            4.543356               4.447576   \n",
       "980       4011     4023      4            4.311620               4.244756   \n",
       "2048      4023     4035      2            4.454423               5.420055   \n",
       "2049      4023     4036      4            4.094051               5.290508   \n",
       "2050      4023     4037      2            4.015759               5.047666   \n",
       "64083     4720     4734      3            3.113637               3.718797   \n",
       "64171     4721     4734      2            3.287291               3.158721   \n",
       "64172     4721     4735      1            3.173355               2.823152   \n",
       "64259     4722     4734      4            2.406018               2.218510   \n",
       "64260     4722     4735      3            2.326539               1.876688   \n",
       "64347     4723     4734      5            3.328405               2.929543   \n",
       "64348     4723     4735      9            3.291007               2.488538   \n",
       "64436     4724     4735      3            2.497920               1.956396   \n",
       "65326     4734     4745      2            4.190319               4.420008   \n",
       "65328     4734     4747      3            2.211318               2.298035   \n",
       "65329     4734     4748      4            3.918264               4.026113   \n",
       "65416     4735     4747      4            2.367439               2.427257   \n",
       "...        ...      ...    ...                 ...                    ...   \n",
       "28305    24318    24332      1            0.481495               0.483970   \n",
       "28391    24319    24330      0            0.199943               0.322696   \n",
       "28392    24319    24331      0            0.235700               0.284758   \n",
       "28393    24319    24332      0            0.195504               0.187188   \n",
       "28394    24319    24333      0            0.186749               0.124604   \n",
       "28480    24320    24331      0            0.209685               0.261337   \n",
       "28481    24320    24332      1            0.173583               0.192031   \n",
       "28482    24320    24333      0            0.155004               0.090293   \n",
       "28483    24320    24334      0            0.125577               0.107698   \n",
       "28569    24321    24332      0            0.387420               0.283023   \n",
       "28570    24321    24333      0            0.339254               0.234367   \n",
       "28571    24321    24334      1            0.275919               0.210574   \n",
       "28572    24321    24335      0            0.375608               0.423005   \n",
       "28658    24322    24333      0            0.559765               0.416090   \n",
       "28659    24322    24334      1            0.492163               0.363867   \n",
       "28660    24322    24335      1            0.612081               0.764367   \n",
       "28661    24322    24336      0            0.523355               0.612236   \n",
       "28747    24323    24334      0            0.240436               0.189784   \n",
       "28748    24323    24335      1            0.303889               0.324580   \n",
       "28749    24323    24336      1            0.263372               0.244922   \n",
       "28750    24323    24337      0            0.402290               0.385541   \n",
       "28836    24324    24335      0            0.636008               0.633967   \n",
       "28837    24324    24336      0            0.586602               0.508592   \n",
       "28838    24324    24337      0            0.784859               0.675232   \n",
       "28839    24324    24338      1            1.850467               1.511424   \n",
       "28925    24325    24336      2            0.906662               0.623361   \n",
       "28926    24325    24337      0            1.125032               0.736182   \n",
       "28927    24325    24338      2            2.589147               2.157651   \n",
       "28928    24325    24339      2            2.619516               2.149216   \n",
       "29014    24326    24337      6            4.571711               4.277528   \n",
       "\n",
       "       la_exp.horizontal.value  la_exp.lowleft.value  \n",
       "45527                 2.539612              2.749783  \n",
       "45615                 4.130355              4.223058  \n",
       "45703                 4.021224              4.243577  \n",
       "46236                 5.273157              3.869909  \n",
       "46238                 3.784151              2.541656  \n",
       "46239                 3.822843              2.604651  \n",
       "46326                 3.835793              2.749389  \n",
       "46327                 4.023391              2.799043  \n",
       "46328                 3.776033              2.344038  \n",
       "46503                 3.789606              3.972032  \n",
       "46504                 3.268091              3.027295  \n",
       "46592                 3.409826              4.485879  \n",
       "46773                 4.365700              4.043452  \n",
       "804                   4.314169              4.470755  \n",
       "980                   4.111568              4.076849  \n",
       "2048                  3.445220              4.243512  \n",
       "2049                  3.035442              4.150209  \n",
       "2050                  2.900248              4.307997  \n",
       "64083                 3.454340              3.803006  \n",
       "64171                 4.131236              3.923242  \n",
       "64172                 3.870255              3.709589  \n",
       "64259                 2.768358              2.740342  \n",
       "64260                 2.677009              2.606179  \n",
       "64347                 3.745444              3.527099  \n",
       "64348                 3.653379              3.420079  \n",
       "64436                 2.407614              2.646544  \n",
       "65326                 4.313603              3.897382  \n",
       "65328                 2.395894              2.147404  \n",
       "65329                 4.170133              3.688275  \n",
       "65416                 2.641822              2.152733  \n",
       "...                        ...                   ...  \n",
       "28305                 0.463026              0.671160  \n",
       "28391                 0.165983              0.194306  \n",
       "28392                 0.406652              0.256279  \n",
       "28393                 0.328922              0.277225  \n",
       "28394                 0.309886              0.281714  \n",
       "28480                 0.362578              0.159748  \n",
       "28481                 0.322213              0.184054  \n",
       "28482                 0.292345              0.169176  \n",
       "28483                 0.157562              0.152450  \n",
       "28569                 0.523329              0.312621  \n",
       "28570                 0.456951              0.270146  \n",
       "28571                 0.341147              0.312869  \n",
       "28572                 0.435818              0.415337  \n",
       "28658                 0.432736              0.487651  \n",
       "28659                 0.481314              0.537668  \n",
       "28660                 0.662178              0.623300  \n",
       "28661                 0.572953              0.587157  \n",
       "28747                 0.286699              0.253029  \n",
       "28748                 0.348275              0.314315  \n",
       "28749                 0.252904              0.285490  \n",
       "28750                 0.282168              0.358838  \n",
       "28836                 0.673954              0.622197  \n",
       "28837                 0.545257              0.630282  \n",
       "28838                 0.392358              0.797384  \n",
       "28839                 1.226823              1.766548  \n",
       "28925                 0.667671              0.993947  \n",
       "28926                 0.802125              1.220882  \n",
       "28927                 1.989026              2.826989  \n",
       "28928                 2.482055              2.672861  \n",
       "29014                 4.072085              4.764073  \n",
       "\n",
       "[579 rows x 7 columns]"
      ]
     },
     "execution_count": 67,
     "metadata": {},
     "output_type": "execute_result"
    }
   ],
   "source": [
    "cccc[(cccc['bin2_id']-cccc['bin1_id']<15)&(cccc[xlabel]<5)]"
   ]
  },
  {
   "cell_type": "code",
   "execution_count": 89,
   "metadata": {},
   "outputs": [
    {
     "data": {
      "text/plain": [
       "Text(0, 0.5, 'la_exp value')"
      ]
     },
     "execution_count": 89,
     "metadata": {},
     "output_type": "execute_result"
    },
    {
     "data": {
      "image/png": "[encoded data removed]",
      "text/plain": [
       "<Figure size 432x288 with 1 Axes>"
      ]
     },
     "metadata": {
      "needs_background": "light"
     },
     "output_type": "display_data"
    }
   ],
   "source": [
    "xlabel = 'la_exp.donut.value'\n",
    "ylabel = 'count'\n",
    "\n",
    "plt.scatter(cccc['bin2_id']-cccc['bin1_id'],(cccc[xlabel]))\n",
    "# plt.scatter(dddd[xlabel],dddd[ylabel], s=80, facecolors='none', edgecolors='r')\n",
    "# plt.scatter(eeee[xlabel],eeee[ylabel], s=80, facecolors='none', edgecolors='y')\n",
    "\n",
    "ax = plt.gca()\n",
    "\n",
    "ax.set_xlabel(\"genomic separation\")\n",
    "ax.set_ylabel(\"la_exp value\")\n"
   ]
  },
  {
   "cell_type": "code",
   "execution_count": 71,
   "metadata": {},
   "outputs": [
    {
     "data": {
      "text/plain": [
       "Text(0.5, 0, '# of interactions')"
      ]
     },
     "execution_count": 71,
     "metadata": {},
     "output_type": "execute_result"
    },
    {
     "data": {
      "image/png": "[encoded data removed]",
      "text/plain": [
       "<Figure size 432x288 with 1 Axes>"
      ]
     },
     "metadata": {
      "needs_background": "light"
     },
     "output_type": "display_data"
    }
   ],
   "source": [
    "# for large genomes- calculate histograms i.e. start with lambda-chunking right away:\n",
    "\n",
    "nlchunks = dotfinder.HiCCUPS_W1_MAX_INDX\n",
    "base = 2 ** (1/3)\n",
    "ledges = np.concatenate((\n",
    "    [-np.inf],\n",
    "    np.logspace(0, nlchunks - 1, num=nlchunks, base=base, dtype=np.float),\n",
    "    [np.inf]))\n",
    "\n",
    "#################################################\n",
    "plt.plot(ledges,np.zeros_like(ledges),'r|')\n",
    "plt.title(\"those freaking lambda-chunks/bins/whatever\")\n",
    "plt.xlabel(\"# of interactions\")"
   ]
  },
  {
   "cell_type": "code",
   "execution_count": 51,
   "metadata": {},
   "outputs": [
    {
     "name": "stdout",
     "output_type": "stream",
     "text": [
      "Preparing to convolve 49 tiles:\n",
      "creating a Pool of 8 workers to tackle 49 tiles\n"
     ]
    }
   ],
   "source": [
    "gw_hist = dotfinder.scoring_and_histogramming_step(clr,\n",
    "                                        expected,\n",
    "                                        expected_name,\n",
    "                                        balancing_weight_name,\n",
    "                                        tiles,\n",
    "                                        kernels,\n",
    "                                        ledges,\n",
    "                                        max_nans_tolerated,\n",
    "                                        loci_separation_bins,\n",
    "                                        nproc,\n",
    "                                        verbose)\n"
   ]
  },
  {
   "cell_type": "markdown",
   "metadata": {},
   "source": [
    "### determine thresholds using the fdr thing ..."
   ]
  },
  {
   "cell_type": "code",
   "execution_count": null,
   "metadata": {},
   "outputs": [],
   "source": [
    "##### to be continued ..."
   ]
  },
  {
   "cell_type": "code",
   "execution_count": 52,
   "metadata": {},
   "outputs": [],
   "source": [
    "threshold_df, qvalues = dotfinder.determine_thresholds(\n",
    "    kernels, ledges, gw_hist, 0.99)"
   ]
  },
  {
   "cell_type": "markdown",
   "metadata": {},
   "source": [
    "### oveview of the 2D histogram \n",
    "\n",
    "x-bins corresponding to the $\\lambda$-chunks and y-bins correspodning to the observed counts ..."
   ]
  },
  {
   "cell_type": "code",
   "execution_count": 53,
   "metadata": {},
   "outputs": [
    {
     "name": "stderr",
     "output_type": "stream",
     "text": [
      "/home/venevs/miniconda3/envs/dots-stable/lib/python3.6/site-packages/ipykernel_launcher.py:3: RuntimeWarning: divide by zero encountered in log\n",
      "  This is separate from the ipykernel package so we can avoid doing imports until\n"
     ]
    },
    {
     "data": {
      "text/plain": [
       "Text(0.5, 0, 'lambda-chunks')"
      ]
     },
     "execution_count": 53,
     "metadata": {},
     "output_type": "execute_result"
    },
    {
     "data": {
      "image/png": "[encoded data removed]",
      "text/plain": [
       "<Figure size 720x2160 with 1 Axes>"
      ]
     },
     "metadata": {
      "needs_background": "light"
     },
     "output_type": "display_data"
    }
   ],
   "source": [
    "fig = plt.gcf()\n",
    "fig.set_size_inches(10,30)\n",
    "plt.imshow(np.log(gw_hist[\"donut\"]),aspect=0.05)\n",
    "ax = plt.gca()\n",
    "ax.plot(np.arange(threshold_df[\"donut\"].values.size)-0.05,threshold_df[\"donut\"].values,color='r',marker=\"_\",linestyle=\":\")\n",
    "\n",
    "ax.set_ylabel(\"observed counts\")\n",
    "ax.set_xlabel(\"lambda-chunks\")"
   ]
  },
  {
   "cell_type": "markdown",
   "metadata": {},
   "source": [
    "### a histogram for a particular $\\lambda$-chunk"
   ]
  },
  {
   "cell_type": "code",
   "execution_count": 20,
   "metadata": {},
   "outputs": [
    {
     "name": "stdout",
     "output_type": "stream",
     "text": [
      "5962\n"
     ]
    },
    {
     "data": {
      "text/plain": [
       "<BarContainer object of 1 artists>"
      ]
     },
     "execution_count": 20,
     "metadata": {},
     "output_type": "execute_result"
    },
    {
     "data": {
      "image/png": "[encoded data removed]",
      "text/plain": [
       "<Figure size 432x288 with 1 Axes>"
      ]
     },
     "metadata": {
      "needs_background": "light"
     },
     "output_type": "display_data"
    }
   ],
   "source": [
    "binid = 20\n",
    "print(gw_hist[\"donut\"].iloc[:,binid].values.sum())\n",
    "hs = np.clip(gw_hist[\"donut\"].iloc[:,binid].values,a_min=None,a_max=10000)\n",
    "# hs = np.log(gw_hist[\"donut\"].iloc[:,binid].values)\n",
    "plt.bar(gw_hist[\"donut\"].iloc[:,binid].index,hs)\n",
    "plt.bar(threshold_df[\"donut\"].iloc[binid],hs.max(),width=10,color='red')\n",
    "# plt.gca().set_ylim(0,1)\n",
    "# plt.gca().set_xlim(0,60)\n",
    "# gw_hist[\"donut\"].iloc[:,20]"
   ]
  },
  {
   "cell_type": "markdown",
   "metadata": {},
   "source": [
    "### now extract \"significant\" pixels using the defined thresholds_df and the same parquet file with the score dump as for the histogramming step"
   ]
  },
  {
   "cell_type": "code",
   "execution_count": 33,
   "metadata": {},
   "outputs": [
    {
     "name": "stdout",
     "output_type": "stream",
     "text": [
      "parquet input ...\n",
      "Number of filtered pixels 21545\n"
     ]
    }
   ],
   "source": [
    "filtered_pixels = dotfinder.extraction_step(tmp_scores,\n",
    "                                            score_dump_mode,\n",
    "                                            kernels,\n",
    "                                            ledges,\n",
    "                                            threshold_df,\n",
    "                                            nproc=1,\n",
    "                                            output_path=output_scores,\n",
    "                                            verbose=False)\n",
    "\n",
    "print(\"Number of filtered pixels {}\".format(len(filtered_pixels)))"
   ]
  },
  {
   "cell_type": "markdown",
   "metadata": {},
   "source": [
    "### annotate filtered pixeles and cluster them -> get centroids after that to proceed with post-processing ..."
   ]
  },
  {
   "cell_type": "code",
   "execution_count": 40,
   "metadata": {},
   "outputs": [],
   "source": [
    "filtered_pixels_qvals = dotfinder.annotate_pixels_with_qvalues(filtered_pixels,\n",
    "                                                                qvalues,\n",
    "                                                                kernels)"
   ]
  },
  {
   "cell_type": "code",
   "execution_count": 42,
   "metadata": {},
   "outputs": [
    {
     "name": "stderr",
     "output_type": "stream",
     "text": [
      "/home/venevs/miniconda3/envs/dots-latest/lib/python3.6/site-packages/sklearn/cluster/birch.py:77: FutureWarning: Using a non-tuple sequence for multidimensional indexing is deprecated; use `arr[tuple(seq)]` instead of `arr[seq]`. In the future this will be interpreted as an array index, `arr[np.array(seq)]`, which will result either in an error or a different result.\n",
      "  node1_dist, node2_dist = dist[[farthest_idx]]\n"
     ]
    },
    {
     "name": "stdout",
     "output_type": "stream",
     "text": [
      "Clustering is completed:\n",
      "6296 clusters detected\n",
      "3.42+/-3.53 mean size\n",
      "\n",
      "Clustering is over!\n",
      "Number of clustered pixels, i.e. centroids 6296\n"
     ]
    }
   ],
   "source": [
    "filtered_pixels_annotated = cooler.annotate(filtered_pixels_qvals, clr.bins()[:])\n",
    "centroids = dotfinder.clustering_step(\n",
    "                            filtered_pixels_annotated,\n",
    "                            expected_chroms,\n",
    "                            dots_clustering_radius,\n",
    "                            verbose)\n",
    "print(\"Number of clustered pixels, i.e. centroids {}\".format(len(centroids)))"
   ]
  },
  {
   "cell_type": "code",
   "execution_count": 45,
   "metadata": {},
   "outputs": [],
   "source": [
    "final_out = dotfinder.thresholding_step(centroids)"
   ]
  },
  {
   "cell_type": "code",
   "execution_count": 46,
   "metadata": {},
   "outputs": [
    {
     "data": {
      "text/plain": [
       "2327"
      ]
     },
     "execution_count": 46,
     "metadata": {},
     "output_type": "execute_result"
    }
   ],
   "source": [
    "len(final_out)"
   ]
  },
  {
   "cell_type": "markdown",
   "metadata": {},
   "source": [
    "## stuff that require clean up, but might be usefull in general "
   ]
  },
  {
   "cell_type": "code",
   "execution_count": 21,
   "metadata": {},
   "outputs": [
    {
     "name": "stderr",
     "output_type": "stream",
     "text": [
      "/home/venevs/miniconda3/envs/dots-stable/lib/python3.6/site-packages/ipykernel_launcher.py:11: RuntimeWarning: divide by zero encountered in log\n",
      "  # This is added back by InteractiveShellApp.init_path()\n"
     ]
    },
    {
     "data": {
      "text/plain": [
       "<matplotlib.image.AxesImage at 0x7f3b8ccf1ac8>"
      ]
     },
     "execution_count": 21,
     "metadata": {},
     "output_type": "execute_result"
    },
    {
     "data": {
      "image/png": "[encoded data removed]",
      "text/plain": [
       "<Figure size 432x288 with 1 Axes>"
      ]
     },
     "metadata": {
      "needs_background": "light"
     },
     "output_type": "display_data"
    }
   ],
   "source": [
    "# plt.imshow(np.log(clr.matrix()[18030:18100,18030:18100]),cmap='YlOrRd')\n",
    "# plt.scatter(53,18,s=80, facecolors='none', edgecolors='b')\n",
    "\n",
    "bin1,bin2 = 18030+18,18030+53\n",
    "\n",
    "bin1_n,bin2_n = 18030+23,18030+49\n",
    "\n",
    "\n",
    "bin1,bin2 = 24322, 24334\n",
    "\n",
    "plt.imshow(np.log(clr.matrix(balance=True)[bin1-20:bin1+20,bin2-20:bin2+20]),cmap='YlOrRd')\n",
    "\n",
    "# something to have in mind - is the difference between JUicer balancing and cooler balacning ...\n",
    "# MAD max filtering in particular\n",
    "# in Juicer some of thesparse/low coverage regions are kept - what re the effects on the distriubtions, etc\n",
    "# to be seen\n",
    "# here is the region for reference: chr1:242,019,651-244,387,558 & chr1:242,713,339-243,695,154 [offset 0,0:0,0]\n",
    "\n",
    "dddd = cccc[(cccc['bin1_id']==bin1)&(cccc['bin2_id']==bin2)]\n",
    "eeee = cccc[(cccc['bin1_id']==bin1_n)&(cccc['bin2_id']==bin2_n)]\n",
    "\n",
    "(cccc['bin2_id']-cccc['bin1_id']).min()"
   ]
  }
 ],
 "metadata": {
  "kernelspec": {
   "display_name": "Python 3",
   "language": "python",
   "name": "python3"
  },
  "language_info": {
   "codemirror_mode": {
    "name": "ipython",
    "version": 3
   },
   "file_extension": ".py",
   "mimetype": "text/x-python",
   "name": "python",
   "nbconvert_exporter": "python",
   "pygments_lexer": "ipython3",
   "version": "3.6.7"
  }
 },
 "nbformat": 4,
 "nbformat_minor": 2
}
