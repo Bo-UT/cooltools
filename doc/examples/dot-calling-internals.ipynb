{
 "cells": [
  {
   "cell_type": "code",
   "execution_count": 2,
   "metadata": {},
   "outputs": [],
   "source": [
    "!export MKL_NUM_THREADS=1\n",
    "\n",
    "# this isn't working in Jupyter notebook as it turned out ..."
   ]
  },
  {
   "cell_type": "code",
   "execution_count": 3,
   "metadata": {},
   "outputs": [],
   "source": [
    "import mkl\n",
    "mkl.set_num_threads(1)"
   ]
  },
  {
   "cell_type": "code",
   "execution_count": 28,
   "metadata": {},
   "outputs": [
    {
     "name": "stdout",
     "output_type": "stream",
     "text": [
      "The autoreload extension is already loaded. To reload it, use:\n",
      "  %reload_ext autoreload\n"
     ]
    }
   ],
   "source": [
    "%load_ext autoreload\n",
    "%autoreload 2"
   ]
  },
  {
   "cell_type": "code",
   "execution_count": 29,
   "metadata": {},
   "outputs": [],
   "source": [
    "import os.path as op\n",
    "from scipy.stats import poisson\n",
    "import pandas as pd\n",
    "import numpy as np\n",
    "import cooler\n",
    "\n",
    "\n",
    "from cooltools import dotfinder"
   ]
  },
  {
   "cell_type": "code",
   "execution_count": 5,
   "metadata": {},
   "outputs": [],
   "source": [
    "%matplotlib inline\n",
    "import matplotlib.pyplot as plt"
   ]
  },
  {
   "cell_type": "code",
   "execution_count": 6,
   "metadata": {},
   "outputs": [],
   "source": [
    "cpath = \"ESC-R1\"\n",
    "basename = \"U54-H1ESC4DN-FA-DSG-MNase_hg19\"\n",
    "\n",
    "COOL10=\"{}/{}.10000.cool\".format(cpath,basename)\n",
    "EXP10=\"{}/{}.10000.cool.cis.expected\".format(cpath,basename)\n",
    "LOOP10=\"{}/cloops_{}.10000.bedpe\".format(cpath,basename)\n",
    "# HDF10=test_scores$TESTIDX\\_$BASENAME.10000.hdf\n",
    "FLOOP10=\"{}/final_cloops_{}.10000.bedpe\".format(cpath,basename)\n",
    "\n"
   ]
  },
  {
   "cell_type": "markdown",
   "metadata": {},
   "source": [
    "### provide arguments to replace CLI interface"
   ]
  },
  {
   "cell_type": "code",
   "execution_count": 7,
   "metadata": {},
   "outputs": [],
   "source": [
    "cool_path = COOL10\n",
    "expected_path = EXP10\n",
    "expected_name = 'balanced.avg'\n",
    "nproc = 8\n",
    "max_loci_separation = 10000000\n",
    "max_nans_tolerated = 11\n",
    "tile_size = 10000000\n",
    "fdr = 0.1\n",
    "dots_clustering_radius = 21000\n",
    "verbose = True\n",
    "output_scores = 'xxx'\n",
    "output_hists = 'yyy'\n",
    "output_calls = 'zzz'\n",
    "score_dump_mode = 'parquet'\n",
    "# score_dump_mode = 'local'\n",
    "temp_dir = './'\n",
    "no_delete_temp = True"
   ]
  },
  {
   "cell_type": "markdown",
   "metadata": {},
   "source": [
    "### load cooler and expected"
   ]
  },
  {
   "cell_type": "code",
   "execution_count": 8,
   "metadata": {},
   "outputs": [
    {
     "name": "stdout",
     "output_type": "stream",
     "text": [
      "Tokenization took: 45.74 ms\n",
      "Type conversion took: 19.43 ms\n",
      "Parser memory cleanup took: 0.01 ms\n",
      "Tokenization took: 33.22 ms\n",
      "Type conversion took: 18.70 ms\n",
      "Parser memory cleanup took: 0.00 ms\n",
      "Tokenization took: 11.04 ms\n",
      "Type conversion took: 6.39 ms\n",
      "Parser memory cleanup took: 0.00 ms\n"
     ]
    }
   ],
   "source": [
    "clr = cooler.Cooler(cool_path)\n",
    "\n",
    "expected_columns = ['chrom', 'diag', 'n_valid', expected_name]\n",
    "expected_index = ['chrom', 'diag']\n",
    "expected_dtypes = {\n",
    "    'chrom': np.str,\n",
    "    'diag': np.int64,\n",
    "    'n_valid': np.int64,\n",
    "    expected_name: np.float64\n",
    "}\n",
    "expected = pd.read_table(\n",
    "    expected_path,\n",
    "    usecols=expected_columns,\n",
    "    index_col=expected_index,\n",
    "    dtype=expected_dtypes,\n",
    "    comment=None,\n",
    "    verbose=verbose)"
   ]
  },
  {
   "cell_type": "markdown",
   "metadata": {},
   "source": [
    "### we'll everyhting for `chr1` only to save time\n",
    "\n",
    "demonstration purposes only this way ..."
   ]
  },
  {
   "cell_type": "code",
   "execution_count": 9,
   "metadata": {},
   "outputs": [],
   "source": [
    "expected = expected.loc[[\"chr1\"]]"
   ]
  },
  {
   "cell_type": "markdown",
   "metadata": {},
   "source": [
    "### some silly validation"
   ]
  },
  {
   "cell_type": "code",
   "execution_count": 10,
   "metadata": {},
   "outputs": [
    {
     "name": "stdout",
     "output_type": "stream",
     "text": [
      "ESC-R1/U54-H1ESC4DN-FA-DSG-MNase_hg19.10000.cool and ESC-R1/U54-H1ESC4DN-FA-DSG-MNase_hg19.10000.cool.cis.expected passed cross-compatibility checks.\n"
     ]
    }
   ],
   "source": [
    "# Input validation\n",
    "# unique list of chroms mentioned in expected_path\n",
    "# do simple column-name validation for now\n",
    "get_exp_chroms = lambda df: df.index.get_level_values(\"chrom\").unique()\n",
    "expected_chroms = get_exp_chroms(expected)\n",
    "if not set(expected_chroms).issubset(clr.chromnames):\n",
    "    raise ValueError(\n",
    "        \"Chromosomes in {} must be subset of \".format(expected_path) +\n",
    "        \"chromosomes in cooler {}\".format(cool_path))\n",
    "# check number of bins\n",
    "# compute # of bins by comparing matching indexes\n",
    "get_exp_bins = lambda df, ref_chroms: (\n",
    "    df.index.get_level_values(\"chrom\").isin(ref_chroms).sum())\n",
    "expected_bins = get_exp_bins(expected, expected_chroms)\n",
    "cool_bins = clr.bins()[:][\"chrom\"].isin(expected_chroms).sum()\n",
    "if not (expected_bins == cool_bins):\n",
    "    raise ValueError(\n",
    "        \"Number of bins is not matching: \",\n",
    "        \"{} in {}, and {} in {} for chromosomes {}\".format(\n",
    "            expected_bins,\n",
    "            expected_path,\n",
    "            cool_bins,\n",
    "            cool_path,\n",
    "            expected_chroms))\n",
    "if verbose:\n",
    "    print(\"{} and {} passed cross-compatibility checks.\".format(\n",
    "        cool_path, expected_path))"
   ]
  },
  {
   "cell_type": "markdown",
   "metadata": {},
   "source": [
    "### prepare some other parameters "
   ]
  },
  {
   "cell_type": "code",
   "execution_count": 11,
   "metadata": {},
   "outputs": [
    {
     "name": "stdout",
     "output_type": "stream",
     "text": [
      "we are dealing with the data binned at 10000\n"
     ]
    }
   ],
   "source": [
    "# Prepare some parameters.\n",
    "binsize = clr.binsize\n",
    "loci_separation_bins = int(max_loci_separation / binsize)\n",
    "tile_size_bins = int(tile_size / binsize)\n",
    "balance_factor = 1.0  #clr._load_attrs(\"bins/weight\")[\"scale\"]\n",
    "\n",
    "print(\"we are dealing with the data binned at {}\".format(binsize))\n",
    "\n",
    "# clustering would deal with bases-units for now, so supress this for now\n",
    "# clustering_radius_bins = int(dots_clustering_radius/binsize)\n",
    "\n",
    "# kernels\n",
    "# 'upright' is a symmetrical inversion of \"lowleft\", not needed.\n",
    "ktypes = ['donut', 'vertical', 'horizontal', 'lowleft']"
   ]
  },
  {
   "cell_type": "markdown",
   "metadata": {},
   "source": [
    "### choosing w and p for the kernel sizes\n",
    "we should replace it or hide it with the function that \"recommends\" `w` and `p` based on the `binsize`\n",
    "but also we should provide a CLI interface for changing those at will ...\n",
    "\n",
    "or should we \"read\" kernel-footprints from a separate file ... for ultimate customizability ?!"
   ]
  },
  {
   "cell_type": "code",
   "execution_count": 12,
   "metadata": {},
   "outputs": [
    {
     "name": "stdout",
     "output_type": "stream",
     "text": [
      "Kernel parameters w=5 p=2\n"
     ]
    }
   ],
   "source": [
    "w,p = dotfinder.recommend_kernel_params(binsize)\n",
    "print(\"Kernel parameters w={} p={}\".format(w,p))"
   ]
  },
  {
   "cell_type": "code",
   "execution_count": 13,
   "metadata": {},
   "outputs": [],
   "source": [
    "kernels = {k: dotfinder.get_kernel(w, p, k) for k in ktypes}\n",
    "\n",
    "# list of tile coordinate ranges\n",
    "tiles = list(\n",
    "    dotfinder.heatmap_tiles_generator_diag(\n",
    "        clr,\n",
    "        expected_chroms,\n",
    "        w,\n",
    "        tile_size_bins,\n",
    "        loci_separation_bins\n",
    "    )\n",
    ")   "
   ]
  },
  {
   "cell_type": "code",
   "execution_count": 14,
   "metadata": {},
   "outputs": [],
   "source": [
    "import tempfile\n",
    "tmp_scores = tempfile.NamedTemporaryFile(\n",
    "    suffix='.parquet',\n",
    "    delete= not no_delete_temp,\n",
    "    dir=temp_dir)"
   ]
  },
  {
   "cell_type": "code",
   "execution_count": 15,
   "metadata": {},
   "outputs": [
    {
     "name": "stdout",
     "output_type": "stream",
     "text": [
      "Preparing to convolve 49 tiles:\n",
      "creating a Pool of 8 workers to tackle 49 tiles\n",
      "parquet output ...\n"
     ]
    },
    {
     "ename": "ArrowException",
     "evalue": "Unsupported Parquet format version",
     "output_type": "error",
     "traceback": [
      "\u001b[0;31m---------------------------------------------------------------------------\u001b[0m",
      "\u001b[0;31mArrowException\u001b[0m                            Traceback (most recent call last)",
      "\u001b[0;31mArrowException\u001b[0m: Unsupported Parquet format version"
     ]
    },
    {
     "name": "stderr",
     "output_type": "stream",
     "text": [
      "Exception ignored in: 'pyarrow._parquet.ParquetWriter._set_version'\n",
      "pyarrow.lib.ArrowException: Unsupported Parquet format version\n"
     ]
    }
   ],
   "source": [
    "cccc = dotfinder.scoring_step(clr,\n",
    "                    expected,\n",
    "                    expected_name,\n",
    "                    \"weight\",\n",
    "                    tiles,\n",
    "                    kernels,\n",
    "                    max_nans_tolerated,\n",
    "                    loci_separation_bins,\n",
    "                    tmp_scores,\n",
    "                    nproc,\n",
    "                    score_dump_mode,\n",
    "                    verbose)"
   ]
  },
  {
   "cell_type": "code",
   "execution_count": 16,
   "metadata": {},
   "outputs": [
    {
     "data": {
      "text/plain": [
       "Text(0.5, 0, '# of interactions')"
      ]
     },
     "execution_count": 16,
     "metadata": {},
     "output_type": "execute_result"
    },
    {
     "data": {
      "image/png": "[encoded data removed]",
      "text/plain": [
       "<Figure size 432x288 with 1 Axes>"
      ]
     },
     "metadata": {
      "needs_background": "light"
     },
     "output_type": "display_data"
    }
   ],
   "source": [
    "nlchunks = dotfinder.HiCCUPS_W1_MAX_INDX\n",
    "base = 2 ** (1/3)\n",
    "ledges = np.concatenate((\n",
    "    [-np.inf],\n",
    "    np.logspace(0, nlchunks - 1, num=nlchunks, base=base, dtype=np.float),\n",
    "    [np.inf]))\n",
    "\n",
    "#################################################\n",
    "plt.plot(ledges,np.zeros_like(ledges),'r|')\n",
    "plt.title(\"those freaking lambda-chunks/bins/whatever\")\n",
    "plt.xlabel(\"# of interactions\")"
   ]
  },
  {
   "cell_type": "code",
   "execution_count": 17,
   "metadata": {},
   "outputs": [
    {
     "name": "stdout",
     "output_type": "stream",
     "text": [
      "parquet input ...\n"
     ]
    }
   ],
   "source": [
    "gw_hist = dotfinder.histogramming_step(tmp_scores,\n",
    "                                    score_dump_mode,\n",
    "                                    kernels,\n",
    "                                    ledges,\n",
    "                                    output_path=None,\n",
    "                                    nproc=1,\n",
    "                                    verbose=False)"
   ]
  },
  {
   "cell_type": "markdown",
   "metadata": {},
   "source": [
    "### determine thresholds using the fdr thing ..."
   ]
  },
  {
   "cell_type": "code",
   "execution_count": 18,
   "metadata": {},
   "outputs": [],
   "source": [
    "threshold_df, qvalues = dotfinder.determine_thresholds(\n",
    "    kernels, ledges, gw_hist, 0.99)"
   ]
  },
  {
   "cell_type": "markdown",
   "metadata": {},
   "source": [
    "### oveview of the 2D histogram \n",
    "\n",
    "x-bins corresponding to the $\\lambda$-chunks and y-bins correspodning to the observed counts ..."
   ]
  },
  {
   "cell_type": "code",
   "execution_count": 19,
   "metadata": {},
   "outputs": [
    {
     "name": "stderr",
     "output_type": "stream",
     "text": [
      "/home/venevs/miniconda3/envs/dots-latest/lib/python3.6/site-packages/ipykernel_launcher.py:3: RuntimeWarning: divide by zero encountered in log\n",
      "  This is separate from the ipykernel package so we can avoid doing imports until\n"
     ]
    },
    {
     "data": {
      "text/plain": [
       "Text(0.5, 0, 'lambda-chunks')"
      ]
     },
     "execution_count": 19,
     "metadata": {},
     "output_type": "execute_result"
    },
    {
     "data": {
      "image/png": "[encoded data removed]",
      "text/plain": [
       "<Figure size 720x2160 with 1 Axes>"
      ]
     },
     "metadata": {
      "needs_background": "light"
     },
     "output_type": "display_data"
    }
   ],
   "source": [
    "fig = plt.gcf()\n",
    "fig.set_size_inches(10,30)\n",
    "plt.imshow(np.log(gw_hist[\"donut\"]),aspect=0.05)\n",
    "ax = plt.gca()\n",
    "ax.plot(np.arange(threshold_df[\"donut\"].values.size)-0.05,threshold_df[\"donut\"].values,color='r',marker=\"_\",linestyle=\":\")\n",
    "\n",
    "ax.set_ylabel(\"observed counts\")\n",
    "ax.set_xlabel(\"lambda-chunks\")"
   ]
  },
  {
   "cell_type": "markdown",
   "metadata": {},
   "source": [
    "### a histogram for a particular $\\lambda$-chunk"
   ]
  },
  {
   "cell_type": "code",
   "execution_count": 20,
   "metadata": {},
   "outputs": [
    {
     "name": "stdout",
     "output_type": "stream",
     "text": [
      "5962\n"
     ]
    },
    {
     "data": {
      "text/plain": [
       "<BarContainer object of 1 artists>"
      ]
     },
     "execution_count": 20,
     "metadata": {},
     "output_type": "execute_result"
    },
    {
     "data": {
      "image/png": "[encoded data removed]",
      "text/plain": [
       "<Figure size 432x288 with 1 Axes>"
      ]
     },
     "metadata": {
      "needs_background": "light"
     },
     "output_type": "display_data"
    }
   ],
   "source": [
    "binid = 20\n",
    "print(gw_hist[\"donut\"].iloc[:,binid].values.sum())\n",
    "hs = np.clip(gw_hist[\"donut\"].iloc[:,binid].values,a_min=None,a_max=10000)\n",
    "# hs = np.log(gw_hist[\"donut\"].iloc[:,binid].values)\n",
    "plt.bar(gw_hist[\"donut\"].iloc[:,binid].index,hs)\n",
    "plt.bar(threshold_df[\"donut\"].iloc[binid],hs.max(),width=10,color='red')\n",
    "# plt.gca().set_ylim(0,1)\n",
    "# plt.gca().set_xlim(0,60)\n",
    "# gw_hist[\"donut\"].iloc[:,20]"
   ]
  },
  {
   "cell_type": "markdown",
   "metadata": {},
   "source": [
    "### now extract \"significant\" pixels using the defined thresholds_df and the same parquet file with the score dump as for the histogramming step"
   ]
  },
  {
   "cell_type": "code",
   "execution_count": 33,
   "metadata": {},
   "outputs": [
    {
     "name": "stdout",
     "output_type": "stream",
     "text": [
      "parquet input ...\n",
      "Number of filtered pixels 21545\n"
     ]
    }
   ],
   "source": [
    "filtered_pixels = dotfinder.extraction_step(tmp_scores,\n",
    "                                            score_dump_mode,\n",
    "                                            kernels,\n",
    "                                            ledges,\n",
    "                                            threshold_df,\n",
    "                                            nproc=1,\n",
    "                                            output_path=output_scores,\n",
    "                                            verbose=False)\n",
    "\n",
    "print(\"Number of filtered pixels {}\".format(len(filtered_pixels)))"
   ]
  },
  {
   "cell_type": "markdown",
   "metadata": {},
   "source": [
    "### annotate filtered pixeles and cluster them -> get centroids after that to proceed with post-processing ..."
   ]
  },
  {
   "cell_type": "code",
   "execution_count": 40,
   "metadata": {},
   "outputs": [],
   "source": [
    "filtered_pixels_qvals = dotfinder.annotate_pixels_with_qvalues(filtered_pixels,\n",
    "                                                                qvalues,\n",
    "                                                                kernels)"
   ]
  },
  {
   "cell_type": "code",
   "execution_count": 42,
   "metadata": {},
   "outputs": [
    {
     "name": "stderr",
     "output_type": "stream",
     "text": [
      "/home/venevs/miniconda3/envs/dots-latest/lib/python3.6/site-packages/sklearn/cluster/birch.py:77: FutureWarning: Using a non-tuple sequence for multidimensional indexing is deprecated; use `arr[tuple(seq)]` instead of `arr[seq]`. In the future this will be interpreted as an array index, `arr[np.array(seq)]`, which will result either in an error or a different result.\n",
      "  node1_dist, node2_dist = dist[[farthest_idx]]\n"
     ]
    },
    {
     "name": "stdout",
     "output_type": "stream",
     "text": [
      "Clustering is completed:\n",
      "6296 clusters detected\n",
      "3.42+/-3.53 mean size\n",
      "\n",
      "Clustering is over!\n",
      "Number of clustered pixels, i.e. centroids 6296\n"
     ]
    }
   ],
   "source": [
    "filtered_pixels_annotated = cooler.annotate(filtered_pixels_qvals, clr.bins()[:])\n",
    "centroids = dotfinder.clustering_step(\n",
    "                            filtered_pixels_annotated,\n",
    "                            expected_chroms,\n",
    "                            dots_clustering_radius,\n",
    "                            verbose)\n",
    "print(\"Number of clustered pixels, i.e. centroids {}\".format(len(centroids)))"
   ]
  },
  {
   "cell_type": "code",
   "execution_count": 45,
   "metadata": {},
   "outputs": [],
   "source": [
    "final_out = dotfinder.thresholding_step(centroids)"
   ]
  },
  {
   "cell_type": "code",
   "execution_count": 46,
   "metadata": {},
   "outputs": [
    {
     "data": {
      "text/plain": [
       "2327"
      ]
     },
     "execution_count": 46,
     "metadata": {},
     "output_type": "execute_result"
    }
   ],
   "source": [
    "len(final_out)"
   ]
  },
  {
   "cell_type": "code",
   "execution_count": null,
   "metadata": {},
   "outputs": [],
   "source": []
  }
 ],
 "metadata": {
  "kernelspec": {
   "display_name": "Python 3",
   "language": "python",
   "name": "python3"
  },
  "language_info": {
   "codemirror_mode": {
    "name": "ipython",
    "version": 3
   },
   "file_extension": ".py",
   "mimetype": "text/x-python",
   "name": "python",
   "nbconvert_exporter": "python",
   "pygments_lexer": "ipython3",
   "version": "3.6.7"
  }
 },
 "nbformat": 4,
 "nbformat_minor": 2
}
