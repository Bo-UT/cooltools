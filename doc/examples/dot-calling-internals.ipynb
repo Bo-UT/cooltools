{
 "cells": [
  {
   "cell_type": "code",
   "execution_count": 1,
   "metadata": {},
   "outputs": [],
   "source": [
    "# Setup the environment first\n",
    "\n",
    "# read: https://github.com/mirnylab/cooler/issues/138 for more details:\n",
    "\n",
    "# !export MKL_NUM_THREADS=1 - # not working in a notebook ((\n",
    "# instead do this, after making sure mkl is installed\n",
    "import mkl\n",
    "mkl.set_num_threads(1)\n",
    "\n"
   ]
  },
  {
   "cell_type": "code",
   "execution_count": 3,
   "metadata": {},
   "outputs": [],
   "source": [
    "# are you developing?\n",
    "# turn module reloading on\n",
    "\n",
    "# %load_ext autoreload\n",
    "# %autoreload 2"
   ]
  },
  {
   "cell_type": "code",
   "execution_count": 33,
   "metadata": {},
   "outputs": [],
   "source": [
    "# neccessary modules to be imported\n",
    "\n",
    "import os.path as op\n",
    "from scipy.stats import poisson\n",
    "import pandas as pd\n",
    "import numpy as np\n",
    "import cooler\n",
    "\n",
    "from cooltools import dotfinder\n",
    "\n",
    "%matplotlib inline\n",
    "import matplotlib.pyplot as plt\n",
    "import matplotlib.colors as colors\n",
    "import matplotlib.ticker as ticker"
   ]
  },
  {
   "cell_type": "code",
   "execution_count": 7,
   "metadata": {},
   "outputs": [
    {
     "name": "stdout",
     "output_type": "stream",
     "text": [
      "\u001b[0m\u001b[01;32mcall_dots_simple.sh\u001b[0m*             GM12878_insitu_primary_30.KR.cis.expected\r\n",
      "cloops10mb.10kb.KR.txt           GM12878_insitu_primary_30.KR.cool\r\n",
      "cloops10mb.10kb.KR.txt.postproc  hist10mb.10kb.KR.fixed\r\n",
      "explore_coolbox.ipynb            zxzx\r\n",
      "final_cloops10mb.10kb.KR.txt\r\n"
     ]
    }
   ],
   "source": [
    "ls /home/venevs/DOTS_TESTING/prim_rep_rao_Mar19"
   ]
  },
  {
   "cell_type": "code",
   "execution_count": 9,
   "metadata": {},
   "outputs": [],
   "source": [
    "# input files to play with\n",
    "# pick Rao et al primary @10kb to enable comparison\n",
    "\n",
    "# what I have here is Rao et al 2014 sample for GM cells\n",
    "# the dataset that they refer to as \"primary\" in the paper\n",
    "# the cooler created using hic2cool tool\n",
    "# and what I have here is an older version before divisive/multiplicative\n",
    "# balancing weights situation happened\n",
    "path = \"/home/venevs/DOTS_TESTING/prim_rep_rao_Mar19\"\n",
    "basename = \"GM12878_insitu_primary_30.KR\"\n",
    "\n",
    "# this is a 10kb cooler file\n",
    "# and we should also have expected calculated for 10kb\n",
    "\n",
    "COOL10=\"{}/{}.cool\".format(path,basename)\n",
    "EXP10=\"{}/{}.cis.expected\".format(path,basename)\n",
    "\n",
    "LOOP10=\"{}/cloops_{}.bedpe\".format(path,basename)\n",
    "# # HDF10=test_scores$TESTIDX\\_$BASENAME.10000.hdf\n",
    "FLOOP10=\"{}/cloops_{}.bedpe.postprocess\".format(path,basename)\n",
    "\n",
    "# keeping some of the relevant CLI commands here\n",
    "# useful for preprocessing cooler files - before calling dots\n",
    "\n",
    "# 0. consider adding downloading command for Rao data e.g.\n",
    "# 0. also condsider showing hic2cool usage here to turn .hic to .cool\n",
    "\n",
    "# 1. re-balancing - cis-only is worth checking out at the very least ...\n",
    "# cooler balance -p {threads} --ignore-diags 1 --force --name 'wsnake' {input}::/resolutions/{res}\n",
    "\n",
    "# 2. calculation of expected\n",
    "# cooltools compute-expected -p {threads} --weight-name 'wsnake' --drop-diags 1 {input[0]}::/resolutions/{res}\n"
   ]
  },
  {
   "cell_type": "markdown",
   "metadata": {},
   "source": [
    "### provide arguments to replace CLI interface"
   ]
  },
  {
   "cell_type": "code",
   "execution_count": 50,
   "metadata": {},
   "outputs": [],
   "source": [
    "# specify parameters for call-dots\n",
    "cool_path = COOL10\n",
    "expected_path = EXP10\n",
    "expected_name = 'balanced.avg'\n",
    "nproc = 8\n",
    "max_loci_separation = 1000000\n",
    "max_nans_tolerated = 4\n",
    "tile_size = 10000000\n",
    "fdr = 0.1\n",
    "dots_clustering_radius = 21000\n",
    "verbose = True\n",
    "balancing_weight_name = \"weight\"\n",
    "output_scores = 'xxx'\n",
    "output_hists = 'yyy'\n",
    "output_calls = 'zzz'\n",
    "score_dump_mode = 'parquet'\n",
    "# score_dump_mode = 'local'\n",
    "temp_dir = './'\n",
    "no_delete_temp = True"
   ]
  },
  {
   "cell_type": "markdown",
   "metadata": {},
   "source": [
    "### load cooler and expected"
   ]
  },
  {
   "cell_type": "code",
   "execution_count": 17,
   "metadata": {},
   "outputs": [
    {
     "name": "stdout",
     "output_type": "stream",
     "text": [
      "Tokenization took: 61.52 ms\n",
      "Type conversion took: 19.38 ms\n",
      "Parser memory cleanup took: 0.00 ms\n",
      "Tokenization took: 33.60 ms\n",
      "Type conversion took: 19.17 ms\n",
      "Parser memory cleanup took: 0.00 ms\n",
      "Tokenization took: 10.19 ms\n",
      "Type conversion took: 6.11 ms\n",
      "Parser memory cleanup took: 0.00 ms\n"
     ]
    }
   ],
   "source": [
    "clr = cooler.Cooler(cool_path)\n",
    "\n",
    "expected_columns = ['chrom', 'diag', 'n_valid', expected_name]\n",
    "expected_index = ['chrom', 'diag']\n",
    "expected_dtypes = {\n",
    "    'chrom': np.str,\n",
    "    'diag': np.int64,\n",
    "    'n_valid': np.int64,\n",
    "    expected_name: np.float64\n",
    "}\n",
    "expected = pd.read_table(\n",
    "    expected_path,\n",
    "    usecols=expected_columns,\n",
    "    index_col=expected_index,\n",
    "    dtype=expected_dtypes,\n",
    "    comment=None,\n",
    "    verbose=verbose)\n",
    "# include Geoff's fix for the datatypes in expected"
   ]
  },
  {
   "cell_type": "markdown",
   "metadata": {},
   "source": [
    "### we'll do everyhting for `chr1` only to save time (reconsider it later ...)\n",
    "\n",
    "demonstration purposes only this way ..."
   ]
  },
  {
   "cell_type": "code",
   "execution_count": 21,
   "metadata": {},
   "outputs": [],
   "source": [
    "# beware of chromosome naming converntion, i.e. \"chr1\" vs \"1\" ...\n",
    "expected = expected.loc[[\"1\"]]"
   ]
  },
  {
   "cell_type": "markdown",
   "metadata": {},
   "source": [
    "### some validation\n",
    "Just making sure that expected anb cooler are \"compatible\"\n",
    "i.e. they refer to the same chromosomes and those chromosomes have the same length"
   ]
  },
  {
   "cell_type": "code",
   "execution_count": 22,
   "metadata": {},
   "outputs": [
    {
     "name": "stdout",
     "output_type": "stream",
     "text": [
      "/home/venevs/DOTS_TESTING/prim_rep_rao_Mar19/GM12878_insitu_primary_30.KR.cool and /home/venevs/DOTS_TESTING/prim_rep_rao_Mar19/GM12878_insitu_primary_30.KR.cis.expected passed cross-compatibility checks.\n"
     ]
    }
   ],
   "source": [
    "# Input validation\n",
    "# unique list of chroms mentioned in expected_path\n",
    "# do simple column-name validation for now\n",
    "get_exp_chroms = lambda df: df.index.get_level_values(\"chrom\").unique()\n",
    "expected_chroms = get_exp_chroms(expected)\n",
    "if not set(expected_chroms).issubset(clr.chromnames):\n",
    "    raise ValueError(\n",
    "        \"Chromosomes in {} must be subset of \".format(expected_path) +\n",
    "        \"chromosomes in cooler {}\".format(cool_path))\n",
    "# check number of bins\n",
    "# compute # of bins by comparing matching indexes\n",
    "get_exp_bins = lambda df, ref_chroms: (\n",
    "    df.index.get_level_values(\"chrom\").isin(ref_chroms).sum())\n",
    "expected_bins = get_exp_bins(expected, expected_chroms)\n",
    "cool_bins = clr.bins()[:][\"chrom\"].isin(expected_chroms).sum()\n",
    "if not (expected_bins == cool_bins):\n",
    "    raise ValueError(\n",
    "        \"Number of bins is not matching: \",\n",
    "        \"{} in {}, and {} in {} for chromosomes {}\".format(\n",
    "            expected_bins,\n",
    "            expected_path,\n",
    "            cool_bins,\n",
    "            cool_path,\n",
    "            expected_chroms))\n",
    "if verbose:\n",
    "    print(\"{} and {} passed cross-compatibility checks.\".format(\n",
    "        cool_path, expected_path))"
   ]
  },
  {
   "cell_type": "markdown",
   "metadata": {},
   "source": [
    "### prepare some other parameters "
   ]
  },
  {
   "cell_type": "code",
   "execution_count": 24,
   "metadata": {},
   "outputs": [
    {
     "name": "stdout",
     "output_type": "stream",
     "text": [
      "we are dealing with the data binned at 10000\n"
     ]
    }
   ],
   "source": [
    "# Prepare some parameters.\n",
    "binsize = clr.binsize\n",
    "loci_separation_bins = int(max_loci_separation / binsize)\n",
    "tile_size_bins = int(tile_size / binsize)\n",
    "balance_factor = 1.0  #clr._load_attrs(\"bins/weight\")[\"scale\"]\n",
    "\n",
    "print(\"we are dealing with the data binned at {}\".format(binsize))\n",
    "\n",
    "# clustering would deal with bases-units for now, so supress this for now\n",
    "# clustering_radius_bins = int(dots_clustering_radius/binsize)\n",
    "\n",
    "# kernels\n",
    "# 'upright' is a symmetrical inversion of \"lowleft\", not needed.\n",
    "ktypes = ['donut', 'vertical', 'horizontal', 'lowleft']"
   ]
  },
  {
   "cell_type": "markdown",
   "metadata": {},
   "source": [
    "### choosing w and p for the kernel sizes\n",
    "we should replace it or hide it with the function that \"recommends\" `w` and `p` based on the `binsize`\n",
    "but also we should provide a CLI interface for changing those at will ...\n",
    "\n",
    "or should we \"read\" kernel-footprints from a separate file ... for ultimate customizability ?!"
   ]
  },
  {
   "cell_type": "code",
   "execution_count": 44,
   "metadata": {},
   "outputs": [
    {
     "name": "stdout",
     "output_type": "stream",
     "text": [
      "Kernel parameters w=5 p=2\n"
     ]
    }
   ],
   "source": [
    "w,p = dotfinder.recommend_kernel_params(binsize)\n",
    "print(\"Kernel parameters w={} p={}\".format(w,p))"
   ]
  },
  {
   "cell_type": "code",
   "execution_count": 45,
   "metadata": {},
   "outputs": [],
   "source": [
    "kernels = {k: dotfinder.get_kernel(w, p, k) for k in ktypes}\n",
    "\n",
    "# list of tile coordinate ranges\n",
    "tiles = list(\n",
    "    dotfinder.heatmap_tiles_generator_diag(\n",
    "        clr,\n",
    "        expected_chroms,\n",
    "        w,\n",
    "        tile_size_bins,\n",
    "        loci_separation_bins\n",
    "    )\n",
    ")   "
   ]
  },
  {
   "cell_type": "code",
   "execution_count": 47,
   "metadata": {},
   "outputs": [
    {
     "data": {
      "text/plain": [
       "[Text(1, 0, 'Excluded from calculation'),\n",
       " Text(1, 0, 'Included in calculations')]"
      ]
     },
     "execution_count": 47,
     "metadata": {},
     "output_type": "execute_result"
    },
    {
     "data": {
      "image/png": "[encoded data removed]",
      "text/plain": [
       "<Figure size 432x288 with 2 Axes>"
      ]
     },
     "metadata": {
      "needs_background": "light"
     },
     "output_type": "display_data"
    }
   ],
   "source": [
    "# it is important to demonstrate filters here \n",
    "# consider moving plotting code elsewhere or simplify it significantly ...\n",
    "# split cell above and demonstrate kernels - it's nice:\n",
    "\n",
    "ktype='donut'\n",
    "kernel= kernels[ktype]\n",
    "y,x = np.ogrid[-w:w+1, -w:w+1]\n",
    "\n",
    "extent = (0-0.5,\n",
    "          x.size-0.5,\n",
    "          0-0.5,\n",
    "          y.size-0.5)\n",
    "########################\n",
    "plt.clf()\n",
    "# axes setup\n",
    "ax = plt.gca()\n",
    "# discrete colormap with 2 colors ...\n",
    "cmap = colors.ListedColormap([plt.cm.viridis(0),\n",
    "                              plt.cm.viridis(1.0)])\n",
    "# kernel:\n",
    "imk = ax.imshow(kernel,\n",
    "                alpha=0.7,\n",
    "                cmap=cmap,\n",
    "                extent=extent,\n",
    "                interpolation='nearest')\n",
    "ax.set_xticks([])\n",
    "ax.set_yticks([])\n",
    "ax.set_xticklabels('',visible=False)\n",
    "ax.set_yticklabels('',visible=False)\n",
    "ax.set_title(\"{} kernel\".format(ktype),fontsize=16)\n",
    "\n",
    "# add checkerboard to depict pixels:\n",
    "checkerboard = np.add.outer(range(x.size),\n",
    "                            range(y.size)) % 2\n",
    "ax.imshow(checkerboard,\n",
    "        cmap=plt.cm.gray,\n",
    "        interpolation='nearest',\n",
    "        extent=extent,\n",
    "        alpha=0.3)\n",
    "#####################\n",
    "# colorbar and that's it:\n",
    "cb = plt.colorbar(imk)\n",
    "cb.ax.get_yaxis().set_major_locator(ticker.MaxNLocator(1))\n",
    "cb.ax.set_yticklabels(['Excluded from calculation','Included in calculations'])"
   ]
  },
  {
   "cell_type": "markdown",
   "metadata": {},
   "source": [
    "### Getting to the calculations of locally-adjusted expected\n",
    "\n",
    "we could try to store all of the values in a separate file,\n",
    "but practice shows that for large genomes - it degrades performnce too much\n",
    "\n",
    "consider using this for yeast or other smaller genomes\n",
    "\n",
    "for human/etc use 2-pass strategy, where we calculate locally-adjusted expected\n",
    "for each pixel and use this value *immediately* without trying to store it"
   ]
  },
  {
   "cell_type": "code",
   "execution_count": 14,
   "metadata": {},
   "outputs": [],
   "source": [
    "# for smaller genomes saving pre-calculated locally adjusted expected\n",
    "# might be feasible:\n",
    "\n",
    "# import tempfile\n",
    "# tmp_scores = tempfile.NamedTemporaryFile(\n",
    "#     suffix='.parquet',\n",
    "#     delete= not no_delete_temp,\n",
    "#     dir=temp_dir)\n",
    "\n",
    "# cccc = dotfinder.scoring_step(clr,\n",
    "#                     expected,\n",
    "#                     expected_name,\n",
    "#                     \"weight\",\n",
    "#                     tiles,\n",
    "#                     kernels,\n",
    "#                     max_nans_tolerated,\n",
    "#                     loci_separation_bins,\n",
    "#                     tmp_scores,\n",
    "#                     nproc,\n",
    "#                     score_dump_mode,\n",
    "#                     verbose)\n",
    "\n",
    "# histogramming using temp input:\n",
    "\n",
    "# gw_hist = dotfinder.histogramming_step(tmp_scores,\n",
    "#                                     score_dump_mode,\n",
    "#                                     kernels,\n",
    "#                                     ledges,\n",
    "#                                     output_path=None,\n",
    "#                                     nproc=1,\n",
    "#                                     verbose=False)"
   ]
  },
  {
   "cell_type": "code",
   "execution_count": 48,
   "metadata": {},
   "outputs": [
    {
     "data": {
      "text/plain": [
       "Text(0.5, 0, '# of interactions')"
      ]
     },
     "execution_count": 48,
     "metadata": {},
     "output_type": "execute_result"
    },
    {
     "data": {
      "image/png": "[encoded data removed]",
      "text/plain": [
       "<Figure size 432x288 with 1 Axes>"
      ]
     },
     "metadata": {
      "needs_background": "light"
     },
     "output_type": "display_data"
    }
   ],
   "source": [
    "# for large genomes- calculate histograms i.e. start with lambda-chunking right away:\n",
    "\n",
    "nlchunks = dotfinder.HiCCUPS_W1_MAX_INDX\n",
    "base = 2 ** (1/3)\n",
    "ledges = np.concatenate((\n",
    "    [-np.inf],\n",
    "    np.logspace(0, nlchunks - 1, num=nlchunks, base=base, dtype=np.float),\n",
    "    [np.inf]))\n",
    "\n",
    "#################################################\n",
    "plt.plot(ledges,np.zeros_like(ledges),'r|')\n",
    "plt.title(\"those freaking lambda-chunks/bins/whatever\")\n",
    "plt.xlabel(\"# of interactions\")"
   ]
  },
  {
   "cell_type": "code",
   "execution_count": 51,
   "metadata": {},
   "outputs": [
    {
     "name": "stdout",
     "output_type": "stream",
     "text": [
      "Preparing to convolve 49 tiles:\n",
      "creating a Pool of 8 workers to tackle 49 tiles\n"
     ]
    }
   ],
   "source": [
    "gw_hist = dotfinder.scoring_and_histogramming_step(clr,\n",
    "                                        expected,\n",
    "                                        expected_name,\n",
    "                                        balancing_weight_name,\n",
    "                                        tiles,\n",
    "                                        kernels,\n",
    "                                        ledges,\n",
    "                                        max_nans_tolerated,\n",
    "                                        loci_separation_bins,\n",
    "                                        nproc,\n",
    "                                        verbose)\n"
   ]
  },
  {
   "cell_type": "markdown",
   "metadata": {},
   "source": [
    "### determine thresholds using the fdr thing ..."
   ]
  },
  {
   "cell_type": "code",
   "execution_count": null,
   "metadata": {},
   "outputs": [],
   "source": [
    "##### to be continued ..."
   ]
  },
  {
   "cell_type": "code",
   "execution_count": 52,
   "metadata": {},
   "outputs": [],
   "source": [
    "threshold_df, qvalues = dotfinder.determine_thresholds(\n",
    "    kernels, ledges, gw_hist, 0.99)"
   ]
  },
  {
   "cell_type": "markdown",
   "metadata": {},
   "source": [
    "### oveview of the 2D histogram \n",
    "\n",
    "x-bins corresponding to the $\\lambda$-chunks and y-bins correspodning to the observed counts ..."
   ]
  },
  {
   "cell_type": "code",
   "execution_count": 53,
   "metadata": {},
   "outputs": [
    {
     "name": "stderr",
     "output_type": "stream",
     "text": [
      "/home/venevs/miniconda3/envs/dots-stable/lib/python3.6/site-packages/ipykernel_launcher.py:3: RuntimeWarning: divide by zero encountered in log\n",
      "  This is separate from the ipykernel package so we can avoid doing imports until\n"
     ]
    },
    {
     "data": {
      "text/plain": [
       "Text(0.5, 0, 'lambda-chunks')"
      ]
     },
     "execution_count": 53,
     "metadata": {},
     "output_type": "execute_result"
    },
    {
     "data": {
      "image/png": "[encoded data removed]",
      "text/plain": [
       "<Figure size 720x2160 with 1 Axes>"
      ]
     },
     "metadata": {
      "needs_background": "light"
     },
     "output_type": "display_data"
    }
   ],
   "source": [
    "fig = plt.gcf()\n",
    "fig.set_size_inches(10,30)\n",
    "plt.imshow(np.log(gw_hist[\"donut\"]),aspect=0.05)\n",
    "ax = plt.gca()\n",
    "ax.plot(np.arange(threshold_df[\"donut\"].values.size)-0.05,threshold_df[\"donut\"].values,color='r',marker=\"_\",linestyle=\":\")\n",
    "\n",
    "ax.set_ylabel(\"observed counts\")\n",
    "ax.set_xlabel(\"lambda-chunks\")"
   ]
  },
  {
   "cell_type": "markdown",
   "metadata": {},
   "source": [
    "### a histogram for a particular $\\lambda$-chunk"
   ]
  },
  {
   "cell_type": "code",
   "execution_count": 20,
   "metadata": {},
   "outputs": [
    {
     "name": "stdout",
     "output_type": "stream",
     "text": [
      "5962\n"
     ]
    },
    {
     "data": {
      "text/plain": [
       "<BarContainer object of 1 artists>"
      ]
     },
     "execution_count": 20,
     "metadata": {},
     "output_type": "execute_result"
    },
    {
     "data": {
      "image/png": "[encoded data removed]",
      "text/plain": [
       "<Figure size 432x288 with 1 Axes>"
      ]
     },
     "metadata": {
      "needs_background": "light"
     },
     "output_type": "display_data"
    }
   ],
   "source": [
    "binid = 20\n",
    "print(gw_hist[\"donut\"].iloc[:,binid].values.sum())\n",
    "hs = np.clip(gw_hist[\"donut\"].iloc[:,binid].values,a_min=None,a_max=10000)\n",
    "# hs = np.log(gw_hist[\"donut\"].iloc[:,binid].values)\n",
    "plt.bar(gw_hist[\"donut\"].iloc[:,binid].index,hs)\n",
    "plt.bar(threshold_df[\"donut\"].iloc[binid],hs.max(),width=10,color='red')\n",
    "# plt.gca().set_ylim(0,1)\n",
    "# plt.gca().set_xlim(0,60)\n",
    "# gw_hist[\"donut\"].iloc[:,20]"
   ]
  },
  {
   "cell_type": "markdown",
   "metadata": {},
   "source": [
    "### now extract \"significant\" pixels using the defined thresholds_df and the same parquet file with the score dump as for the histogramming step"
   ]
  },
  {
   "cell_type": "code",
   "execution_count": 33,
   "metadata": {},
   "outputs": [
    {
     "name": "stdout",
     "output_type": "stream",
     "text": [
      "parquet input ...\n",
      "Number of filtered pixels 21545\n"
     ]
    }
   ],
   "source": [
    "filtered_pixels = dotfinder.extraction_step(tmp_scores,\n",
    "                                            score_dump_mode,\n",
    "                                            kernels,\n",
    "                                            ledges,\n",
    "                                            threshold_df,\n",
    "                                            nproc=1,\n",
    "                                            output_path=output_scores,\n",
    "                                            verbose=False)\n",
    "\n",
    "print(\"Number of filtered pixels {}\".format(len(filtered_pixels)))"
   ]
  },
  {
   "cell_type": "markdown",
   "metadata": {},
   "source": [
    "### annotate filtered pixeles and cluster them -> get centroids after that to proceed with post-processing ..."
   ]
  },
  {
   "cell_type": "code",
   "execution_count": 40,
   "metadata": {},
   "outputs": [],
   "source": [
    "filtered_pixels_qvals = dotfinder.annotate_pixels_with_qvalues(filtered_pixels,\n",
    "                                                                qvalues,\n",
    "                                                                kernels)"
   ]
  },
  {
   "cell_type": "code",
   "execution_count": 42,
   "metadata": {},
   "outputs": [
    {
     "name": "stderr",
     "output_type": "stream",
     "text": [
      "/home/venevs/miniconda3/envs/dots-latest/lib/python3.6/site-packages/sklearn/cluster/birch.py:77: FutureWarning: Using a non-tuple sequence for multidimensional indexing is deprecated; use `arr[tuple(seq)]` instead of `arr[seq]`. In the future this will be interpreted as an array index, `arr[np.array(seq)]`, which will result either in an error or a different result.\n",
      "  node1_dist, node2_dist = dist[[farthest_idx]]\n"
     ]
    },
    {
     "name": "stdout",
     "output_type": "stream",
     "text": [
      "Clustering is completed:\n",
      "6296 clusters detected\n",
      "3.42+/-3.53 mean size\n",
      "\n",
      "Clustering is over!\n",
      "Number of clustered pixels, i.e. centroids 6296\n"
     ]
    }
   ],
   "source": [
    "filtered_pixels_annotated = cooler.annotate(filtered_pixels_qvals, clr.bins()[:])\n",
    "centroids = dotfinder.clustering_step(\n",
    "                            filtered_pixels_annotated,\n",
    "                            expected_chroms,\n",
    "                            dots_clustering_radius,\n",
    "                            verbose)\n",
    "print(\"Number of clustered pixels, i.e. centroids {}\".format(len(centroids)))"
   ]
  },
  {
   "cell_type": "code",
   "execution_count": 45,
   "metadata": {},
   "outputs": [],
   "source": [
    "final_out = dotfinder.thresholding_step(centroids)"
   ]
  },
  {
   "cell_type": "code",
   "execution_count": 46,
   "metadata": {},
   "outputs": [
    {
     "data": {
      "text/plain": [
       "2327"
      ]
     },
     "execution_count": 46,
     "metadata": {},
     "output_type": "execute_result"
    }
   ],
   "source": [
    "len(final_out)"
   ]
  },
  {
   "cell_type": "code",
   "execution_count": null,
   "metadata": {},
   "outputs": [],
   "source": []
  }
 ],
 "metadata": {
  "kernelspec": {
   "display_name": "Python 3",
   "language": "python",
   "name": "python3"
  },
  "language_info": {
   "codemirror_mode": {
    "name": "ipython",
    "version": 3
   },
   "file_extension": ".py",
   "mimetype": "text/x-python",
   "name": "python",
   "nbconvert_exporter": "python",
   "pygments_lexer": "ipython3",
   "version": "3.6.7"
  }
 },
 "nbformat": 4,
 "nbformat_minor": 2
}
